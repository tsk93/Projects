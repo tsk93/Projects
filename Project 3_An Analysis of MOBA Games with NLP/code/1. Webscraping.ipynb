{
 "cells": [
  {
   "cell_type": "markdown",
   "id": "9adceb6b-7ced-4745-8287-14afc3930e79",
   "metadata": {},
   "source": [
    "# 1. Webscraping"
   ]
  },
  {
   "cell_type": "markdown",
   "id": "4125dbbe-002b-46ba-95ae-e7a5be8dd2c2",
   "metadata": {},
   "source": [
    "In this section, webscraping was performed on Reddit, which is a social news site where users create and share content. Users create posts in topic-based communities (i.e. subreddits) for different interests and interaction within a community is possible by leaving comments under each post. Data was retrieved from 2 different subreddits (r/DotA2 & r/leagueoflegends) in the form of JSON objects and the information from each post was retrieved and saved as a csv file."
   ]
  },
  {
   "cell_type": "markdown",
   "id": "5b8c7f3f-8b75-4425-9c6f-d57a65053233",
   "metadata": {},
   "source": [
    "- This notebook has been refreshed to scrape data until 19/3/2023 to demonstrate Reddit webscraping. \n",
    "- For subsequent notebooks, the 13/3 dataset will be used for data cleaning and modelling."
   ]
  },
  {
   "cell_type": "code",
   "execution_count": 1,
   "id": "72b44d11-3df4-44a3-b30a-0abd6cad3ba7",
   "metadata": {},
   "outputs": [],
   "source": [
    "# import necessary Python modules\n",
    "\n",
    "import requests\n",
    "import pandas as pd\n",
    "import datetime\n",
    "import time"
   ]
  },
  {
   "cell_type": "code",
   "execution_count": 2,
   "id": "59a3f7ae-786a-403f-bfd6-80d7c37fc517",
   "metadata": {
    "tags": []
   },
   "outputs": [],
   "source": [
    "# instantiate API variables\n",
    "\n",
    "url = 'https://www.reddit.com/'\n",
    "post_nature = ['','hot/','new/','top/','rising/','best/']\n",
    "limit_num = 110\n",
    "headers = {'User-Agent': 'Mozilla/5.0'}\n",
    "\n",
    "dota2_url = []  \n",
    "lol_url = []\n",
    "\n",
    "# retrieve DotA2 and LoL subreddit json\n",
    "\n",
    "for i in post_nature:\n",
    "    dota2_sub = url + 'r/DotA2/' + i    \n",
    "    lol_sub = url + 'r/leagueoflegends/' + i \n",
    "    dota2_json = dota2_sub + '.json?limit=' + str(limit_num) + '&after=None' \n",
    "    lol_json = lol_sub + '.json?limit=' + str(limit_num) + '&after=None'   \n",
    "\n",
    "    for i in range(20):    \n",
    "        if dota2_json in dota2_url:\n",
    "            break\n",
    "        dota2_res = requests.get(dota2_json,headers=headers)\n",
    "        if dota2_res.status_code==200:\n",
    "            dota2_url.append(dota2_json)\n",
    "            dota2_json = dota2_sub + '.json?limit=' + str(limit_num) + '&after=' + str(dota2_res.json()['data']['after'])\n",
    "        else:\n",
    "            print(f'Connection failed, pls try again. Last successful {dota2_sub[-(len(dota2_sub)-len(url)-2):-1]} URL was {dota2_url[-1]}.')\n",
    "            break\n",
    "        time.sleep(6)\n",
    "        \n",
    "    for i in range(20):    \n",
    "        if lol_json in lol_url:\n",
    "            break\n",
    "        lol_res = requests.get(lol_json,headers=headers)\n",
    "        if lol_res.status_code==200:\n",
    "            lol_url.append(lol_json)\n",
    "            lol_json = lol_sub + '.json?limit=' + str(limit_num) + '&after=' + str(lol_res.json()['data']['after'])\n",
    "        else:\n",
    "            print(f'Connection failed, pls try again. Last successful {lol_sub[-(len(lol_sub)-len(url)-2):-1]} URL was {lol_url[-1]}.')\n",
    "            break\n",
    "        time.sleep(6)"
   ]
  },
  {
   "cell_type": "code",
   "execution_count": 3,
   "id": "b50b9a8f-ac3c-4d7e-88b5-af39869c4f61",
   "metadata": {
    "tags": []
   },
   "outputs": [
    {
     "data": {
      "text/plain": [
       "['https://www.reddit.com/r/DotA2/.json?limit=110&after=None',\n",
       " 'https://www.reddit.com/r/DotA2/.json?limit=110&after=t3_11ukk6e',\n",
       " 'https://www.reddit.com/r/DotA2/.json?limit=110&after=t3_11u8dk9',\n",
       " 'https://www.reddit.com/r/DotA2/.json?limit=110&after=t3_11tnhdd',\n",
       " 'https://www.reddit.com/r/DotA2/.json?limit=110&after=t3_11swge5',\n",
       " 'https://www.reddit.com/r/DotA2/best/.json?limit=110&after=t3_11rsp9p',\n",
       " 'https://www.reddit.com/r/DotA2/best/.json?limit=110&after=t3_11riddj',\n",
       " 'https://www.reddit.com/r/DotA2/best/.json?limit=110&after=t3_11qpuv1',\n",
       " 'https://www.reddit.com/r/DotA2/best/.json?limit=110&after=t3_11phfqd',\n",
       " 'https://www.reddit.com/r/DotA2/best/.json?limit=110&after=t3_11oqh7g']"
      ]
     },
     "execution_count": 3,
     "metadata": {},
     "output_type": "execute_result"
    }
   ],
   "source": [
    "# example of Dota2 json output\n",
    "\n",
    "dota2_url[0:5]+dota2_url[-5:]"
   ]
  },
  {
   "cell_type": "code",
   "execution_count": 4,
   "id": "694545da-9816-476f-804d-af5b2c11fea1",
   "metadata": {
    "tags": []
   },
   "outputs": [
    {
     "data": {
      "text/plain": [
       "['https://www.reddit.com/r/leagueoflegends/.json?limit=110&after=None',\n",
       " 'https://www.reddit.com/r/leagueoflegends/.json?limit=110&after=t3_11twdvu',\n",
       " 'https://www.reddit.com/r/leagueoflegends/.json?limit=110&after=t3_11usoff',\n",
       " 'https://www.reddit.com/r/leagueoflegends/.json?limit=110&after=t3_11ts3zt',\n",
       " 'https://www.reddit.com/r/leagueoflegends/.json?limit=110&after=t3_11t9t0u',\n",
       " 'https://www.reddit.com/r/leagueoflegends/best/.json?limit=110&after=t3_11u5ljx',\n",
       " 'https://www.reddit.com/r/leagueoflegends/best/.json?limit=110&after=t3_11slndb',\n",
       " 'https://www.reddit.com/r/leagueoflegends/best/.json?limit=110&after=t3_11su4p1',\n",
       " 'https://www.reddit.com/r/leagueoflegends/best/.json?limit=110&after=t3_11s8xev',\n",
       " 'https://www.reddit.com/r/leagueoflegends/best/.json?limit=110&after=t3_11s2tnl']"
      ]
     },
     "execution_count": 4,
     "metadata": {},
     "output_type": "execute_result"
    }
   ],
   "source": [
    "# example of LoL json output\n",
    "\n",
    "lol_url[0:5]+lol_url[-5:]"
   ]
  },
  {
   "cell_type": "code",
   "execution_count": 5,
   "id": "d6ba3a9d-86f6-493a-8385-884d225d31d1",
   "metadata": {},
   "outputs": [],
   "source": [
    "# Dota2 post url\n",
    "\n",
    "dota2_post_url=[]\n",
    "\n",
    "for i in dota2_url:\n",
    "    dota2_info=requests.get(i,headers=headers)\n",
    "    dota2_post_url+=[url[:-1]+x['data']['permalink'] for x in dota2_info.json()['data']['children']]"
   ]
  },
  {
   "cell_type": "code",
   "execution_count": 6,
   "id": "a5bcd5f2-cd8c-4ff7-bf65-6b17e8ab29b3",
   "metadata": {},
   "outputs": [],
   "source": [
    "# LoL post url\n",
    "\n",
    "lol_post_url=[]\n",
    "\n",
    "for i in lol_url:\n",
    "    lol_info=requests.get(i,headers=headers)\n",
    "    lol_post_url+=[url[:-1]+x['data']['permalink'] for x in lol_info.json()['data']['children']]"
   ]
  },
  {
   "cell_type": "code",
   "execution_count": 7,
   "id": "3d839d7f-432b-4a3f-ad9c-c98c757dbffd",
   "metadata": {
    "tags": []
   },
   "outputs": [
    {
     "data": {
      "text/plain": [
       "['https://www.reddit.com/r/DotA2/comments/11u3yct/io_skin/',\n",
       " 'https://www.reddit.com/r/DotA2/comments/11rm669/dpc_2023_tour_2_division_i_march_15_matches/',\n",
       " 'https://www.reddit.com/r/DotA2/comments/11oi4gp/what_hero_has_worst_synergies_with_each_other/',\n",
       " 'https://www.reddit.com/r/DotA2/comments/11uentd/is_valve_going_to_investigate_other_regions_for/',\n",
       " 'https://www.reddit.com/r/DotA2/comments/11rlbtc/oldg/',\n",
       " 'https://www.reddit.com/r/DotA2/comments/11tz68w/who_would_have_thought_this_would_happen_a_year/',\n",
       " 'https://www.reddit.com/r/DotA2/comments/11v4dar/valve_please_add_the_shard_to_the_sequential_item/',\n",
       " 'https://www.reddit.com/r/DotA2/comments/11ot29s/wisp_enjoyer/',\n",
       " 'https://www.reddit.com/r/DotA2/comments/11ufjme/tumblers_toy_outplay_i_thought_it_was_kinda_funny/',\n",
       " 'https://www.reddit.com/r/DotA2/comments/11oqfut/update_old_g_kitrak_and_resolut1on/']"
      ]
     },
     "execution_count": 7,
     "metadata": {},
     "output_type": "execute_result"
    }
   ],
   "source": [
    "# example of Dota2 posts url output\n",
    "\n",
    "list(set(dota2_post_url))[0:5]+list(set(dota2_post_url))[-5:]"
   ]
  },
  {
   "cell_type": "code",
   "execution_count": 8,
   "id": "f1bde5ef-86fd-4646-935a-e87fd2a54947",
   "metadata": {
    "tags": []
   },
   "outputs": [
    {
     "data": {
      "text/plain": [
       "['https://www.reddit.com/r/leagueoflegends/comments/11qzzta/climbing_in_elo_hell/',\n",
       " 'https://www.reddit.com/r/leagueoflegends/comments/11uuwob/azael_to_miss_this_weeks_the_dive_and_at_least/',\n",
       " 'https://www.reddit.com/r/leagueoflegends/comments/11u3w44/want_to_learn_jax/',\n",
       " 'https://www.reddit.com/r/leagueoflegends/comments/11pjesp/would_pykes_your_cut_be_a_good_addition_to_every/',\n",
       " 'https://www.reddit.com/r/leagueoflegends/comments/11rfnen/nashor_tooth_used_to_have_ability_haste_then_it/',\n",
       " 'https://www.reddit.com/r/leagueoflegends/comments/11r9af2/yuumi_shouldve_gotten_tools_that_encourage/',\n",
       " 'https://www.reddit.com/r/leagueoflegends/comments/11rh05d/help_with_queue_timer_and_accept_match_dont_show/',\n",
       " 'https://www.reddit.com/r/leagueoflegends/comments/11ucwf4/summoners_sanctuary_is_looking_for_new_members/',\n",
       " 'https://www.reddit.com/r/leagueoflegends/comments/11thq90/dom_and_yamato_talk_about_blaber/',\n",
       " 'https://www.reddit.com/r/leagueoflegends/comments/11s5pe4/old_ryze_otp_player/']"
      ]
     },
     "execution_count": 8,
     "metadata": {},
     "output_type": "execute_result"
    }
   ],
   "source": [
    "# example of LoL posts url output\n",
    "\n",
    "list(set(lol_post_url))[0:5]+list(set(lol_post_url))[-5:]"
   ]
  },
  {
   "cell_type": "code",
   "execution_count": 9,
   "id": "e2987d8d-107b-4fca-991e-b2bf57e2b836",
   "metadata": {},
   "outputs": [
    {
     "name": "stdout",
     "output_type": "stream",
     "text": [
      "There are a total of 1022 Dota 2 posts and 990 League of Legends (LoL) posts.\n"
     ]
    }
   ],
   "source": [
    "print(f\"There are a total of {len(set(dota2_post_url))} Dota 2 posts and {len(set(lol_post_url))} League of Legends (LoL) posts.\")"
   ]
  },
  {
   "cell_type": "markdown",
   "id": "56db37c4-305d-42db-a526-bf9a4187f924",
   "metadata": {},
   "source": [
    "The categories that were retrieved from the json objects are listed in the table below.\n",
    "\n",
    "| Subreddit features | Details |\n",
    "| :-: | :-: |\n",
    "| Subreddit | Subreddit that a post belongs to |\n",
    "| Title | Title of a post |\n",
    "| Selftext | Contents of a post |\n",
    "| Author | The username of a post's creator |\n",
    "| Created_UTC | The username of a post's creator |\n",
    "| URL | Web address of a post |"
   ]
  },
  {
   "cell_type": "markdown",
   "id": "e7e00bdd-c9c5-4b54-bd1e-e84abcbbd0f4",
   "metadata": {},
   "source": [
    "We proceed to collect the above-mentioned subreddit features for both Dota 2 and LoL posts."
   ]
  },
  {
   "cell_type": "code",
   "execution_count": 10,
   "id": "8ff59949-2d14-4507-b750-8005bb62306c",
   "metadata": {},
   "outputs": [],
   "source": [
    "#dota2 post features collection\n",
    "\n",
    "dota2_post_subreddit=[]\n",
    "dota2_post_title=[]\n",
    "dota2_post_selftext=[]\n",
    "dota2_post_author=[]\n",
    "dota2_post_created_utc=[]\n",
    "\n",
    "dota2_masterlist=[dota2_post_subreddit,dota2_post_title,dota2_post_selftext,dota2_post_author,dota2_post_created_utc]\n",
    "items=['subreddit','title','selftext','author','created_utc']\n",
    "\n",
    "for i in list(set(dota2_post_url)):\n",
    "    try:\n",
    "        res=requests.get(i+'.json',headers=headers)\n",
    "    except:\n",
    "        continue\n",
    "    for j in range(len(items)):\n",
    "        try:\n",
    "            value=res.json()[0]['data']['children'][0]['data'][items[j]]\n",
    "            if value=='':\n",
    "                dota2_masterlist[j]+=['']\n",
    "            else:\n",
    "                dota2_masterlist[j].append(value)\n",
    "        except:\n",
    "            dota2_masterlist[j]+=['']"
   ]
  },
  {
   "cell_type": "code",
   "execution_count": 11,
   "id": "6d9c7558-3c93-450b-a26e-d892cdf67278",
   "metadata": {},
   "outputs": [
    {
     "data": {
      "text/plain": [
       "[1679087548.0, 1678854944.0, 1678535009.0, 1679114808.0, 1678852453.0]"
      ]
     },
     "execution_count": 11,
     "metadata": {},
     "output_type": "execute_result"
    }
   ],
   "source": [
    "#dota2 post created in unix time\n",
    "\n",
    "dota2_post_created_utc[0:5]"
   ]
  },
  {
   "cell_type": "markdown",
   "id": "41a5fddb-1a30-4120-b494-3b4b6aedaa56",
   "metadata": {},
   "source": [
    "The time where a post is created is represented in Unix time, which is the number of seconds that have elapsed since January 1, 1970 at midnight. At midnight of January 1, 1970, Unix time was 0. We can convert Unix time into a string-formatted datetime that is more easily understood as seen below."
   ]
  },
  {
   "cell_type": "code",
   "execution_count": 12,
   "id": "5490bde4-bb40-4e1b-a6e2-432978cea3d8",
   "metadata": {},
   "outputs": [
    {
     "data": {
      "text/plain": [
       "['18/03/23 05:12:28 AM',\n",
       " '15/03/23 12:35:44 PM',\n",
       " '11/03/23 07:43:29 PM',\n",
       " '18/03/23 12:46:48 PM',\n",
       " '15/03/23 11:54:13 AM']"
      ]
     },
     "execution_count": 12,
     "metadata": {},
     "output_type": "execute_result"
    }
   ],
   "source": [
    "#dota2 post created datetime after unix time conversion\n",
    "\n",
    "dota2_post_created_datetime=[]\n",
    "for i in dota2_post_created_utc:\n",
    "    if i !='':\n",
    "        dota2_post_created_datetime.append(datetime.datetime.fromtimestamp(i).strftime(\"%d/%m/%y %I:%M:%S %p\"))\n",
    "    else:\n",
    "        dota2_post_created_datetime+=['']\n",
    "    \n",
    "dota2_post_created_datetime[0:5]"
   ]
  },
  {
   "cell_type": "code",
   "execution_count": 13,
   "id": "319919b9-cc2f-4bb5-9501-1449f1357ba2",
   "metadata": {
    "tags": []
   },
   "outputs": [
    {
     "data": {
      "text/html": [
       "<div>\n",
       "<style scoped>\n",
       "    .dataframe tbody tr th:only-of-type {\n",
       "        vertical-align: middle;\n",
       "    }\n",
       "\n",
       "    .dataframe tbody tr th {\n",
       "        vertical-align: top;\n",
       "    }\n",
       "\n",
       "    .dataframe thead th {\n",
       "        text-align: right;\n",
       "    }\n",
       "</style>\n",
       "<table border=\"1\" class=\"dataframe\">\n",
       "  <thead>\n",
       "    <tr style=\"text-align: right;\">\n",
       "      <th></th>\n",
       "      <th>subreddit</th>\n",
       "      <th>title</th>\n",
       "      <th>selftext</th>\n",
       "      <th>author</th>\n",
       "      <th>create_datetime</th>\n",
       "      <th>url</th>\n",
       "    </tr>\n",
       "  </thead>\n",
       "  <tbody>\n",
       "    <tr>\n",
       "      <th>0</th>\n",
       "      <td>DotA2</td>\n",
       "      <td>IO skin ?</td>\n",
       "      <td>How much is the  chance to get the IO skin ?</td>\n",
       "      <td>Spiconz</td>\n",
       "      <td>18/03/23 05:12:28 AM</td>\n",
       "      <td>https://www.reddit.com/r/DotA2/comments/11u3yc...</td>\n",
       "    </tr>\n",
       "    <tr>\n",
       "      <th>1</th>\n",
       "      <td>DotA2</td>\n",
       "      <td>DPC 2023 Tour 2: Division I - March 15 Matches</td>\n",
       "      <td>#[Dota Pro Circuit 2023: Tour 2](https://cdn.c...</td>\n",
       "      <td>D2TournamentThreads</td>\n",
       "      <td>15/03/23 12:35:44 PM</td>\n",
       "      <td>https://www.reddit.com/r/DotA2/comments/11rm66...</td>\n",
       "    </tr>\n",
       "    <tr>\n",
       "      <th>2</th>\n",
       "      <td>DotA2</td>\n",
       "      <td>What hero has worst synergies with each other?</td>\n",
       "      <td>For the betterment of drafting.</td>\n",
       "      <td>Impress-Solid</td>\n",
       "      <td>11/03/23 07:43:29 PM</td>\n",
       "      <td>https://www.reddit.com/r/DotA2/comments/11oi4g...</td>\n",
       "    </tr>\n",
       "    <tr>\n",
       "      <th>3</th>\n",
       "      <td>DotA2</td>\n",
       "      <td>Is valve going to investigate other regions fo...</td>\n",
       "      <td>Just like for CN during the DPC for cheating a...</td>\n",
       "      <td>UserLesser2004</td>\n",
       "      <td>18/03/23 12:46:48 PM</td>\n",
       "      <td>https://www.reddit.com/r/DotA2/comments/11uent...</td>\n",
       "    </tr>\n",
       "    <tr>\n",
       "      <th>4</th>\n",
       "      <td>DotA2</td>\n",
       "      <td>Old'G</td>\n",
       "      <td>I finally caught up with Old'G games. It was f...</td>\n",
       "      <td>DifficultyBig4224</td>\n",
       "      <td>15/03/23 11:54:13 AM</td>\n",
       "      <td>https://www.reddit.com/r/DotA2/comments/11rlbt...</td>\n",
       "    </tr>\n",
       "    <tr>\n",
       "      <th>...</th>\n",
       "      <td>...</td>\n",
       "      <td>...</td>\n",
       "      <td>...</td>\n",
       "      <td>...</td>\n",
       "      <td>...</td>\n",
       "      <td>...</td>\n",
       "    </tr>\n",
       "    <tr>\n",
       "      <th>1017</th>\n",
       "      <td>DotA2</td>\n",
       "      <td>who would have thought this would happen a yea...</td>\n",
       "      <td></td>\n",
       "      <td>Comfortable_Pin_166</td>\n",
       "      <td>18/03/23 02:20:22 AM</td>\n",
       "      <td>https://www.reddit.com/r/DotA2/comments/11tz68...</td>\n",
       "    </tr>\n",
       "    <tr>\n",
       "      <th>1018</th>\n",
       "      <td>DotA2</td>\n",
       "      <td>Valve, please add the shard to the sequential ...</td>\n",
       "      <td>Title.\\n\\nOften times, I play heroes that have...</td>\n",
       "      <td>Shamballa93</td>\n",
       "      <td>19/03/23 07:25:49 AM</td>\n",
       "      <td>https://www.reddit.com/r/DotA2/comments/11v4da...</td>\n",
       "    </tr>\n",
       "    <tr>\n",
       "      <th>1019</th>\n",
       "      <td>DotA2</td>\n",
       "      <td>wisp enjoyer</td>\n",
       "      <td></td>\n",
       "      <td>-Rupas-</td>\n",
       "      <td>12/03/23 03:41:45 AM</td>\n",
       "      <td>https://www.reddit.com/r/DotA2/comments/11ot29...</td>\n",
       "    </tr>\n",
       "    <tr>\n",
       "      <th>1020</th>\n",
       "      <td>DotA2</td>\n",
       "      <td>Tumblers Toy outplay. (I thought it was kinda ...</td>\n",
       "      <td></td>\n",
       "      <td>TheRacerX</td>\n",
       "      <td>18/03/23 01:34:22 PM</td>\n",
       "      <td>https://www.reddit.com/r/DotA2/comments/11ufjm...</td>\n",
       "    </tr>\n",
       "    <tr>\n",
       "      <th>1021</th>\n",
       "      <td>DotA2</td>\n",
       "      <td>Update: Old G Kitrak and Resolut1on</td>\n",
       "      <td></td>\n",
       "      <td>shawarmachine_</td>\n",
       "      <td>12/03/23 01:56:41 AM</td>\n",
       "      <td>https://www.reddit.com/r/DotA2/comments/11oqfu...</td>\n",
       "    </tr>\n",
       "  </tbody>\n",
       "</table>\n",
       "<p>1022 rows × 6 columns</p>\n",
       "</div>"
      ],
      "text/plain": [
       "     subreddit                                              title  \\\n",
       "0        DotA2                                          IO skin ?   \n",
       "1        DotA2     DPC 2023 Tour 2: Division I - March 15 Matches   \n",
       "2        DotA2     What hero has worst synergies with each other?   \n",
       "3        DotA2  Is valve going to investigate other regions fo...   \n",
       "4        DotA2                                              Old'G   \n",
       "...        ...                                                ...   \n",
       "1017     DotA2  who would have thought this would happen a yea...   \n",
       "1018     DotA2  Valve, please add the shard to the sequential ...   \n",
       "1019     DotA2                                       wisp enjoyer   \n",
       "1020     DotA2  Tumblers Toy outplay. (I thought it was kinda ...   \n",
       "1021     DotA2                Update: Old G Kitrak and Resolut1on   \n",
       "\n",
       "                                               selftext               author  \\\n",
       "0          How much is the  chance to get the IO skin ?              Spiconz   \n",
       "1     #[Dota Pro Circuit 2023: Tour 2](https://cdn.c...  D2TournamentThreads   \n",
       "2                       For the betterment of drafting.        Impress-Solid   \n",
       "3     Just like for CN during the DPC for cheating a...       UserLesser2004   \n",
       "4     I finally caught up with Old'G games. It was f...    DifficultyBig4224   \n",
       "...                                                 ...                  ...   \n",
       "1017                                                     Comfortable_Pin_166   \n",
       "1018  Title.\\n\\nOften times, I play heroes that have...          Shamballa93   \n",
       "1019                                                                 -Rupas-   \n",
       "1020                                                               TheRacerX   \n",
       "1021                                                          shawarmachine_   \n",
       "\n",
       "           create_datetime                                                url  \n",
       "0     18/03/23 05:12:28 AM  https://www.reddit.com/r/DotA2/comments/11u3yc...  \n",
       "1     15/03/23 12:35:44 PM  https://www.reddit.com/r/DotA2/comments/11rm66...  \n",
       "2     11/03/23 07:43:29 PM  https://www.reddit.com/r/DotA2/comments/11oi4g...  \n",
       "3     18/03/23 12:46:48 PM  https://www.reddit.com/r/DotA2/comments/11uent...  \n",
       "4     15/03/23 11:54:13 AM  https://www.reddit.com/r/DotA2/comments/11rlbt...  \n",
       "...                    ...                                                ...  \n",
       "1017  18/03/23 02:20:22 AM  https://www.reddit.com/r/DotA2/comments/11tz68...  \n",
       "1018  19/03/23 07:25:49 AM  https://www.reddit.com/r/DotA2/comments/11v4da...  \n",
       "1019  12/03/23 03:41:45 AM  https://www.reddit.com/r/DotA2/comments/11ot29...  \n",
       "1020  18/03/23 01:34:22 PM  https://www.reddit.com/r/DotA2/comments/11ufjm...  \n",
       "1021  12/03/23 01:56:41 AM  https://www.reddit.com/r/DotA2/comments/11oqfu...  \n",
       "\n",
       "[1022 rows x 6 columns]"
      ]
     },
     "execution_count": 13,
     "metadata": {},
     "output_type": "execute_result"
    }
   ],
   "source": [
    "# create dota2 dataframe\n",
    "\n",
    "dota2_df = {'subreddit':dota2_post_subreddit,\n",
    "            'title': dota2_post_title,\n",
    "             'selftext': dota2_post_selftext,\n",
    "             'author':dota2_post_author,\n",
    "             'create_datetime':dota2_post_created_datetime,\n",
    "             'url':list(set(dota2_post_url))}\n",
    "dota2_df=pd.DataFrame(dota2_df)\n",
    "dota2_df"
   ]
  },
  {
   "cell_type": "code",
   "execution_count": 15,
   "id": "8c981e69-ab94-44a2-a1c0-18a7171f41fb",
   "metadata": {
    "tags": []
   },
   "outputs": [],
   "source": [
    "#LoL post features collection\n",
    "   \n",
    "lol_post_subreddit=[]\n",
    "lol_post_title=[]\n",
    "lol_post_selftext=[]\n",
    "lol_post_author=[]\n",
    "lol_post_created_utc=[]\n",
    "\n",
    "lol_masterlist=[lol_post_subreddit,lol_post_title,lol_post_selftext,lol_post_author,lol_post_created_utc]\n",
    "items=['subreddit','title','selftext','author','created_utc']\n",
    "\n",
    "for i in list(set(lol_post_url)):\n",
    "    try:\n",
    "        res=requests.get(i+'.json',headers=headers)\n",
    "    except:\n",
    "        continue\n",
    "    for j in range(len(items)):\n",
    "        try:\n",
    "            value=res.json()[0]['data']['children'][0]['data'][items[j]]\n",
    "            if value=='':\n",
    "                lol_masterlist[j]+=['']\n",
    "            else:\n",
    "                lol_masterlist[j].append(value)\n",
    "        except:\n",
    "            lol_masterlist[j]+=['']"
   ]
  },
  {
   "cell_type": "code",
   "execution_count": 16,
   "id": "231c5f1b-41fa-4f62-830d-bfca79c6871d",
   "metadata": {},
   "outputs": [
    {
     "data": {
      "text/plain": [
       "[1678779978.0, 1679161707.0, 1679087410.0, 1678640152.0, 1678839331.0]"
      ]
     },
     "execution_count": 16,
     "metadata": {},
     "output_type": "execute_result"
    }
   ],
   "source": [
    "#LoL post created in unix time\n",
    "\n",
    "lol_post_created_utc[0:5]"
   ]
  },
  {
   "cell_type": "code",
   "execution_count": 17,
   "id": "b86c3e02-d0f7-430a-82c2-5727fa7fea75",
   "metadata": {
    "tags": []
   },
   "outputs": [
    {
     "data": {
      "text/plain": [
       "['14/03/23 03:46:18 PM',\n",
       " '19/03/23 01:48:27 AM',\n",
       " '18/03/23 05:10:10 AM',\n",
       " '13/03/23 12:55:52 AM',\n",
       " '15/03/23 08:15:31 AM']"
      ]
     },
     "execution_count": 17,
     "metadata": {},
     "output_type": "execute_result"
    }
   ],
   "source": [
    "#LoL post created datetime after unix time conversion\n",
    "\n",
    "lol_post_created_datetime=[]\n",
    "for i in lol_post_created_utc:\n",
    "    if i !='':\n",
    "        lol_post_created_datetime.append(datetime.datetime.fromtimestamp(i).strftime(\"%d/%m/%y %I:%M:%S %p\"))\n",
    "    else:\n",
    "        lol_post_created_datetime+=['']\n",
    "    \n",
    "lol_post_created_datetime[0:5]"
   ]
  },
  {
   "cell_type": "code",
   "execution_count": 18,
   "id": "ab39383c-d9fb-4f9c-80a7-091dc371ac43",
   "metadata": {
    "tags": []
   },
   "outputs": [
    {
     "data": {
      "text/html": [
       "<div>\n",
       "<style scoped>\n",
       "    .dataframe tbody tr th:only-of-type {\n",
       "        vertical-align: middle;\n",
       "    }\n",
       "\n",
       "    .dataframe tbody tr th {\n",
       "        vertical-align: top;\n",
       "    }\n",
       "\n",
       "    .dataframe thead th {\n",
       "        text-align: right;\n",
       "    }\n",
       "</style>\n",
       "<table border=\"1\" class=\"dataframe\">\n",
       "  <thead>\n",
       "    <tr style=\"text-align: right;\">\n",
       "      <th></th>\n",
       "      <th>subreddit</th>\n",
       "      <th>title</th>\n",
       "      <th>selftext</th>\n",
       "      <th>author</th>\n",
       "      <th>create_datetime</th>\n",
       "      <th>url</th>\n",
       "    </tr>\n",
       "  </thead>\n",
       "  <tbody>\n",
       "    <tr>\n",
       "      <th>0</th>\n",
       "      <td>leagueoflegends</td>\n",
       "      <td>Climbing in elo hell</td>\n",
       "      <td>So last season i was platinum 1 and this one i...</td>\n",
       "      <td>migga95</td>\n",
       "      <td>14/03/23 03:46:18 PM</td>\n",
       "      <td>https://www.reddit.com/r/leagueoflegends/comme...</td>\n",
       "    </tr>\n",
       "    <tr>\n",
       "      <th>1</th>\n",
       "      <td>leagueoflegends</td>\n",
       "      <td>Azael to miss this weeks The Dive and at least...</td>\n",
       "      <td>https://twitter.com/AzaelOfficial/status/16371...</td>\n",
       "      <td>untamedlazyeye</td>\n",
       "      <td>19/03/23 01:48:27 AM</td>\n",
       "      <td>https://www.reddit.com/r/leagueoflegends/comme...</td>\n",
       "    </tr>\n",
       "    <tr>\n",
       "      <th>2</th>\n",
       "      <td>leagueoflegends</td>\n",
       "      <td>Want to learn jax</td>\n",
       "      <td>Only 3 days of playing so far. Lvl 20 around 6...</td>\n",
       "      <td>zeepers_13</td>\n",
       "      <td>18/03/23 05:10:10 AM</td>\n",
       "      <td>https://www.reddit.com/r/leagueoflegends/comme...</td>\n",
       "    </tr>\n",
       "    <tr>\n",
       "      <th>3</th>\n",
       "      <td>leagueoflegends</td>\n",
       "      <td>Would Pykes \"Your Cut\" be a good addition to e...</td>\n",
       "      <td>What i am thinking is that every support start...</td>\n",
       "      <td>Slimexsan</td>\n",
       "      <td>13/03/23 12:55:52 AM</td>\n",
       "      <td>https://www.reddit.com/r/leagueoflegends/comme...</td>\n",
       "    </tr>\n",
       "    <tr>\n",
       "      <th>4</th>\n",
       "      <td>leagueoflegends</td>\n",
       "      <td>Nashor Tooth used to have ability haste then i...</td>\n",
       "      <td>&amp;amp;#x200B;\\n\\n[13.6 patch coming next week](...</td>\n",
       "      <td>Boudynasr</td>\n",
       "      <td>15/03/23 08:15:31 AM</td>\n",
       "      <td>https://www.reddit.com/r/leagueoflegends/comme...</td>\n",
       "    </tr>\n",
       "    <tr>\n",
       "      <th>...</th>\n",
       "      <td>...</td>\n",
       "      <td>...</td>\n",
       "      <td>...</td>\n",
       "      <td>...</td>\n",
       "      <td>...</td>\n",
       "      <td>...</td>\n",
       "    </tr>\n",
       "    <tr>\n",
       "      <th>985</th>\n",
       "      <td>leagueoflegends</td>\n",
       "      <td>Yuumi should've gotten tools that encourage ho...</td>\n",
       "      <td>Yuumi currently has no real reason to hop off ...</td>\n",
       "      <td>TooBad_Vicho</td>\n",
       "      <td>14/03/23 11:31:47 PM</td>\n",
       "      <td>https://www.reddit.com/r/leagueoflegends/comme...</td>\n",
       "    </tr>\n",
       "    <tr>\n",
       "      <th>986</th>\n",
       "      <td>leagueoflegends</td>\n",
       "      <td>help with queue timer and accept match don't s...</td>\n",
       "      <td>It's been a while now , getting into a game be...</td>\n",
       "      <td>ssrx3</td>\n",
       "      <td>15/03/23 08:59:24 AM</td>\n",
       "      <td>https://www.reddit.com/r/leagueoflegends/comme...</td>\n",
       "    </tr>\n",
       "    <tr>\n",
       "      <th>987</th>\n",
       "      <td>leagueoflegends</td>\n",
       "      <td>Summoner's Sanctuary is looking for new members!</td>\n",
       "      <td>Hello I'd like to invite you to a new League o...</td>\n",
       "      <td>Adorable-Company-283</td>\n",
       "      <td>18/03/23 11:15:42 AM</td>\n",
       "      <td>https://www.reddit.com/r/leagueoflegends/comme...</td>\n",
       "    </tr>\n",
       "    <tr>\n",
       "      <th>988</th>\n",
       "      <td>leagueoflegends</td>\n",
       "      <td>Dom and Yamato talk about Blaber</td>\n",
       "      <td></td>\n",
       "      <td>BeautifulChocolate87</td>\n",
       "      <td>17/03/23 01:06:23 PM</td>\n",
       "      <td>https://www.reddit.com/r/leagueoflegends/comme...</td>\n",
       "    </tr>\n",
       "    <tr>\n",
       "      <th>989</th>\n",
       "      <td>leagueoflegends</td>\n",
       "      <td>Old ryze otp player?</td>\n",
       "      <td>I am trying to remember an OTP ryze player fro...</td>\n",
       "      <td>HUNDarkTemplar</td>\n",
       "      <td>16/03/23 02:58:52 AM</td>\n",
       "      <td>https://www.reddit.com/r/leagueoflegends/comme...</td>\n",
       "    </tr>\n",
       "  </tbody>\n",
       "</table>\n",
       "<p>990 rows × 6 columns</p>\n",
       "</div>"
      ],
      "text/plain": [
       "           subreddit                                              title  \\\n",
       "0    leagueoflegends                               Climbing in elo hell   \n",
       "1    leagueoflegends  Azael to miss this weeks The Dive and at least...   \n",
       "2    leagueoflegends                                  Want to learn jax   \n",
       "3    leagueoflegends  Would Pykes \"Your Cut\" be a good addition to e...   \n",
       "4    leagueoflegends  Nashor Tooth used to have ability haste then i...   \n",
       "..               ...                                                ...   \n",
       "985  leagueoflegends  Yuumi should've gotten tools that encourage ho...   \n",
       "986  leagueoflegends  help with queue timer and accept match don't s...   \n",
       "987  leagueoflegends   Summoner's Sanctuary is looking for new members!   \n",
       "988  leagueoflegends                   Dom and Yamato talk about Blaber   \n",
       "989  leagueoflegends                               Old ryze otp player?   \n",
       "\n",
       "                                              selftext                author  \\\n",
       "0    So last season i was platinum 1 and this one i...               migga95   \n",
       "1    https://twitter.com/AzaelOfficial/status/16371...        untamedlazyeye   \n",
       "2    Only 3 days of playing so far. Lvl 20 around 6...            zeepers_13   \n",
       "3    What i am thinking is that every support start...             Slimexsan   \n",
       "4    &amp;#x200B;\\n\\n[13.6 patch coming next week](...             Boudynasr   \n",
       "..                                                 ...                   ...   \n",
       "985  Yuumi currently has no real reason to hop off ...          TooBad_Vicho   \n",
       "986  It's been a while now , getting into a game be...                 ssrx3   \n",
       "987  Hello I'd like to invite you to a new League o...  Adorable-Company-283   \n",
       "988                                                     BeautifulChocolate87   \n",
       "989  I am trying to remember an OTP ryze player fro...        HUNDarkTemplar   \n",
       "\n",
       "          create_datetime                                                url  \n",
       "0    14/03/23 03:46:18 PM  https://www.reddit.com/r/leagueoflegends/comme...  \n",
       "1    19/03/23 01:48:27 AM  https://www.reddit.com/r/leagueoflegends/comme...  \n",
       "2    18/03/23 05:10:10 AM  https://www.reddit.com/r/leagueoflegends/comme...  \n",
       "3    13/03/23 12:55:52 AM  https://www.reddit.com/r/leagueoflegends/comme...  \n",
       "4    15/03/23 08:15:31 AM  https://www.reddit.com/r/leagueoflegends/comme...  \n",
       "..                    ...                                                ...  \n",
       "985  14/03/23 11:31:47 PM  https://www.reddit.com/r/leagueoflegends/comme...  \n",
       "986  15/03/23 08:59:24 AM  https://www.reddit.com/r/leagueoflegends/comme...  \n",
       "987  18/03/23 11:15:42 AM  https://www.reddit.com/r/leagueoflegends/comme...  \n",
       "988  17/03/23 01:06:23 PM  https://www.reddit.com/r/leagueoflegends/comme...  \n",
       "989  16/03/23 02:58:52 AM  https://www.reddit.com/r/leagueoflegends/comme...  \n",
       "\n",
       "[990 rows x 6 columns]"
      ]
     },
     "execution_count": 18,
     "metadata": {},
     "output_type": "execute_result"
    }
   ],
   "source": [
    "# create LoL dataframe\n",
    "\n",
    "lol_df = {'subreddit':lol_post_subreddit,\n",
    "          'title': lol_post_title,\n",
    "          'selftext': lol_post_selftext,\n",
    "          'author': lol_post_author,\n",
    "          'create_datetime': lol_post_created_datetime,\n",
    "          'url': list(set(lol_post_url))}\n",
    "lol_df=pd.DataFrame(lol_df)\n",
    "lol_df"
   ]
  },
  {
   "cell_type": "code",
   "execution_count": 19,
   "id": "513fdba2-0d40-4cd8-af0a-2cc8bc2dc4e7",
   "metadata": {
    "tags": []
   },
   "outputs": [],
   "source": [
    "#save output to csv\n",
    "\n",
    "reddit_df=pd.concat([dota2_df,lol_df],axis=0)\n",
    "reddit_df.to_csv(\"../dataset/webscraping_190323.csv\",index=False)"
   ]
  }
 ],
 "metadata": {
  "kernelspec": {
   "display_name": "Python [conda env:anaconda3-dsi-sg]",
   "language": "python",
   "name": "conda-env-anaconda3-dsi-sg-py"
  },
  "language_info": {
   "codemirror_mode": {
    "name": "ipython",
    "version": 3
   },
   "file_extension": ".py",
   "mimetype": "text/x-python",
   "name": "python",
   "nbconvert_exporter": "python",
   "pygments_lexer": "ipython3",
   "version": "3.9.13"
  }
 },
 "nbformat": 4,
 "nbformat_minor": 5
}
