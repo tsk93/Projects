{
 "cells": [
  {
   "cell_type": "markdown",
   "id": "9196a928",
   "metadata": {},
   "source": [
    "# Part 1 - Data Cleaning"
   ]
  },
  {
   "cell_type": "code",
   "execution_count": 1,
   "id": "a193553b",
   "metadata": {},
   "outputs": [],
   "source": [
    "# import libraries\n",
    "import pandas as pd\n",
    "import seaborn as sns\n",
    "import numpy as np\n",
    "import matplotlib.pyplot as plt\n",
    "import requests\n",
    "from bs4 import BeautifulSoup as bs\n",
    "import json\n",
    "import requests\n",
    "%matplotlib inline"
   ]
  },
  {
   "cell_type": "code",
   "execution_count": 2,
   "id": "8d504054",
   "metadata": {
    "scrolled": true,
    "tags": []
   },
   "outputs": [
    {
     "name": "stderr",
     "output_type": "stream",
     "text": [
      "C:\\Users\\songk\\AppData\\Local\\Temp\\ipykernel_29608\\1090650860.py:2: DtypeWarning: Columns (41) have mixed types. Specify dtype option on import or set low_memory=False.\n",
      "  housing_df=pd.read_csv(\"../datasets/train.csv\")\n"
     ]
    },
    {
     "data": {
      "text/html": [
       "<div>\n",
       "<style scoped>\n",
       "    .dataframe tbody tr th:only-of-type {\n",
       "        vertical-align: middle;\n",
       "    }\n",
       "\n",
       "    .dataframe tbody tr th {\n",
       "        vertical-align: top;\n",
       "    }\n",
       "\n",
       "    .dataframe thead th {\n",
       "        text-align: right;\n",
       "    }\n",
       "</style>\n",
       "<table border=\"1\" class=\"dataframe\">\n",
       "  <thead>\n",
       "    <tr style=\"text-align: right;\">\n",
       "      <th></th>\n",
       "      <th>id</th>\n",
       "      <th>Tranc_YearMonth</th>\n",
       "      <th>town</th>\n",
       "      <th>flat_type</th>\n",
       "      <th>block</th>\n",
       "      <th>street_name</th>\n",
       "      <th>storey_range</th>\n",
       "      <th>floor_area_sqm</th>\n",
       "      <th>flat_model</th>\n",
       "      <th>lease_commence_date</th>\n",
       "      <th>...</th>\n",
       "      <th>vacancy</th>\n",
       "      <th>pri_sch_affiliation</th>\n",
       "      <th>pri_sch_latitude</th>\n",
       "      <th>pri_sch_longitude</th>\n",
       "      <th>sec_sch_nearest_dist</th>\n",
       "      <th>sec_sch_name</th>\n",
       "      <th>cutoff_point</th>\n",
       "      <th>affiliation</th>\n",
       "      <th>sec_sch_latitude</th>\n",
       "      <th>sec_sch_longitude</th>\n",
       "    </tr>\n",
       "  </thead>\n",
       "  <tbody>\n",
       "    <tr>\n",
       "      <th>0</th>\n",
       "      <td>88471</td>\n",
       "      <td>2016-05</td>\n",
       "      <td>KALLANG/WHAMPOA</td>\n",
       "      <td>4 ROOM</td>\n",
       "      <td>3B</td>\n",
       "      <td>UPP BOON KENG RD</td>\n",
       "      <td>10 TO 12</td>\n",
       "      <td>90.0</td>\n",
       "      <td>Model A</td>\n",
       "      <td>2006</td>\n",
       "      <td>...</td>\n",
       "      <td>78</td>\n",
       "      <td>1</td>\n",
       "      <td>1.317659</td>\n",
       "      <td>103.882504</td>\n",
       "      <td>1138.633422</td>\n",
       "      <td>Geylang Methodist School</td>\n",
       "      <td>224</td>\n",
       "      <td>0</td>\n",
       "      <td>1.317659</td>\n",
       "      <td>103.882504</td>\n",
       "    </tr>\n",
       "    <tr>\n",
       "      <th>1</th>\n",
       "      <td>122598</td>\n",
       "      <td>2012-07</td>\n",
       "      <td>BISHAN</td>\n",
       "      <td>5 ROOM</td>\n",
       "      <td>153</td>\n",
       "      <td>BISHAN ST 13</td>\n",
       "      <td>07 TO 09</td>\n",
       "      <td>130.0</td>\n",
       "      <td>Improved</td>\n",
       "      <td>1987</td>\n",
       "      <td>...</td>\n",
       "      <td>45</td>\n",
       "      <td>1</td>\n",
       "      <td>1.349783</td>\n",
       "      <td>103.854529</td>\n",
       "      <td>447.894399</td>\n",
       "      <td>Kuo Chuan Presbyterian Secondary School</td>\n",
       "      <td>232</td>\n",
       "      <td>0</td>\n",
       "      <td>1.350110</td>\n",
       "      <td>103.854892</td>\n",
       "    </tr>\n",
       "    <tr>\n",
       "      <th>2</th>\n",
       "      <td>170897</td>\n",
       "      <td>2013-07</td>\n",
       "      <td>BUKIT BATOK</td>\n",
       "      <td>EXECUTIVE</td>\n",
       "      <td>289B</td>\n",
       "      <td>BT BATOK ST 25</td>\n",
       "      <td>13 TO 15</td>\n",
       "      <td>144.0</td>\n",
       "      <td>Apartment</td>\n",
       "      <td>1997</td>\n",
       "      <td>...</td>\n",
       "      <td>39</td>\n",
       "      <td>0</td>\n",
       "      <td>1.345245</td>\n",
       "      <td>103.756265</td>\n",
       "      <td>180.074558</td>\n",
       "      <td>Yusof Ishak Secondary School</td>\n",
       "      <td>188</td>\n",
       "      <td>0</td>\n",
       "      <td>1.342334</td>\n",
       "      <td>103.760013</td>\n",
       "    </tr>\n",
       "    <tr>\n",
       "      <th>3</th>\n",
       "      <td>86070</td>\n",
       "      <td>2012-04</td>\n",
       "      <td>BISHAN</td>\n",
       "      <td>4 ROOM</td>\n",
       "      <td>232</td>\n",
       "      <td>BISHAN ST 22</td>\n",
       "      <td>01 TO 05</td>\n",
       "      <td>103.0</td>\n",
       "      <td>Model A</td>\n",
       "      <td>1992</td>\n",
       "      <td>...</td>\n",
       "      <td>20</td>\n",
       "      <td>1</td>\n",
       "      <td>1.354789</td>\n",
       "      <td>103.844934</td>\n",
       "      <td>389.515528</td>\n",
       "      <td>Catholic High School</td>\n",
       "      <td>253</td>\n",
       "      <td>1</td>\n",
       "      <td>1.354789</td>\n",
       "      <td>103.844934</td>\n",
       "    </tr>\n",
       "    <tr>\n",
       "      <th>4</th>\n",
       "      <td>153632</td>\n",
       "      <td>2017-12</td>\n",
       "      <td>YISHUN</td>\n",
       "      <td>4 ROOM</td>\n",
       "      <td>876</td>\n",
       "      <td>YISHUN ST 81</td>\n",
       "      <td>01 TO 03</td>\n",
       "      <td>83.0</td>\n",
       "      <td>Simplified</td>\n",
       "      <td>1987</td>\n",
       "      <td>...</td>\n",
       "      <td>74</td>\n",
       "      <td>0</td>\n",
       "      <td>1.416280</td>\n",
       "      <td>103.838798</td>\n",
       "      <td>312.025435</td>\n",
       "      <td>Orchid Park Secondary School</td>\n",
       "      <td>208</td>\n",
       "      <td>0</td>\n",
       "      <td>1.414888</td>\n",
       "      <td>103.838335</td>\n",
       "    </tr>\n",
       "  </tbody>\n",
       "</table>\n",
       "<p>5 rows × 77 columns</p>\n",
       "</div>"
      ],
      "text/plain": [
       "       id Tranc_YearMonth             town  flat_type block       street_name  \\\n",
       "0   88471         2016-05  KALLANG/WHAMPOA     4 ROOM    3B  UPP BOON KENG RD   \n",
       "1  122598         2012-07           BISHAN     5 ROOM   153      BISHAN ST 13   \n",
       "2  170897         2013-07      BUKIT BATOK  EXECUTIVE  289B    BT BATOK ST 25   \n",
       "3   86070         2012-04           BISHAN     4 ROOM   232      BISHAN ST 22   \n",
       "4  153632         2017-12           YISHUN     4 ROOM   876      YISHUN ST 81   \n",
       "\n",
       "  storey_range  floor_area_sqm  flat_model  lease_commence_date  ...  vacancy  \\\n",
       "0     10 TO 12            90.0     Model A                 2006  ...       78   \n",
       "1     07 TO 09           130.0    Improved                 1987  ...       45   \n",
       "2     13 TO 15           144.0   Apartment                 1997  ...       39   \n",
       "3     01 TO 05           103.0     Model A                 1992  ...       20   \n",
       "4     01 TO 03            83.0  Simplified                 1987  ...       74   \n",
       "\n",
       "   pri_sch_affiliation  pri_sch_latitude  pri_sch_longitude  \\\n",
       "0                    1          1.317659         103.882504   \n",
       "1                    1          1.349783         103.854529   \n",
       "2                    0          1.345245         103.756265   \n",
       "3                    1          1.354789         103.844934   \n",
       "4                    0          1.416280         103.838798   \n",
       "\n",
       "   sec_sch_nearest_dist                             sec_sch_name  \\\n",
       "0           1138.633422                 Geylang Methodist School   \n",
       "1            447.894399  Kuo Chuan Presbyterian Secondary School   \n",
       "2            180.074558             Yusof Ishak Secondary School   \n",
       "3            389.515528                     Catholic High School   \n",
       "4            312.025435             Orchid Park Secondary School   \n",
       "\n",
       "   cutoff_point affiliation sec_sch_latitude  sec_sch_longitude  \n",
       "0           224           0         1.317659         103.882504  \n",
       "1           232           0         1.350110         103.854892  \n",
       "2           188           0         1.342334         103.760013  \n",
       "3           253           1         1.354789         103.844934  \n",
       "4           208           0         1.414888         103.838335  \n",
       "\n",
       "[5 rows x 77 columns]"
      ]
     },
     "execution_count": 2,
     "metadata": {},
     "output_type": "execute_result"
    }
   ],
   "source": [
    "# import data\n",
    "housing_df=pd.read_csv(\"../datasets/train.csv\")\n",
    "housing_df.head()"
   ]
  },
  {
   "cell_type": "markdown",
   "id": "d57d3338",
   "metadata": {},
   "source": [
    "We observe column 42 (postal) has mixed data types. Here we standardise the datatype in this column by setting as string."
   ]
  },
  {
   "cell_type": "code",
   "execution_count": 3,
   "id": "c35f1874-4b15-45cb-b9a4-9aa9ea8fba28",
   "metadata": {
    "scrolled": true
   },
   "outputs": [
    {
     "data": {
      "text/plain": [
       "'postal'"
      ]
     },
     "execution_count": 3,
     "metadata": {},
     "output_type": "execute_result"
    }
   ],
   "source": [
    "housing_df.columns[41]"
   ]
  },
  {
   "cell_type": "code",
   "execution_count": 4,
   "id": "912e6a27-fbcf-4681-9e0b-704b65eadaed",
   "metadata": {},
   "outputs": [],
   "source": [
    "# convert postal to string\n",
    "housing_df['postal']=housing_df['postal'].map(lambda x: str(x))"
   ]
  },
  {
   "cell_type": "code",
   "execution_count": 5,
   "id": "5b6c3a99",
   "metadata": {},
   "outputs": [
    {
     "data": {
      "text/plain": [
       "(150634, 77)"
      ]
     },
     "execution_count": 5,
     "metadata": {},
     "output_type": "execute_result"
    }
   ],
   "source": [
    "housing_df.shape"
   ]
  },
  {
   "cell_type": "code",
   "execution_count": 6,
   "id": "075b738d",
   "metadata": {
    "scrolled": true
   },
   "outputs": [
    {
     "name": "stdout",
     "output_type": "stream",
     "text": [
      "<class 'pandas.core.frame.DataFrame'>\n",
      "RangeIndex: 150634 entries, 0 to 150633\n",
      "Data columns (total 77 columns):\n",
      " #   Column                     Non-Null Count   Dtype  \n",
      "---  ------                     --------------   -----  \n",
      " 0   id                         150634 non-null  int64  \n",
      " 1   Tranc_YearMonth            150634 non-null  object \n",
      " 2   town                       150634 non-null  object \n",
      " 3   flat_type                  150634 non-null  object \n",
      " 4   block                      150634 non-null  object \n",
      " 5   street_name                150634 non-null  object \n",
      " 6   storey_range               150634 non-null  object \n",
      " 7   floor_area_sqm             150634 non-null  float64\n",
      " 8   flat_model                 150634 non-null  object \n",
      " 9   lease_commence_date        150634 non-null  int64  \n",
      " 10  resale_price               150634 non-null  float64\n",
      " 11  Tranc_Year                 150634 non-null  int64  \n",
      " 12  Tranc_Month                150634 non-null  int64  \n",
      " 13  mid_storey                 150634 non-null  int64  \n",
      " 14  lower                      150634 non-null  int64  \n",
      " 15  upper                      150634 non-null  int64  \n",
      " 16  mid                        150634 non-null  int64  \n",
      " 17  full_flat_type             150634 non-null  object \n",
      " 18  address                    150634 non-null  object \n",
      " 19  floor_area_sqft            150634 non-null  float64\n",
      " 20  hdb_age                    150634 non-null  int64  \n",
      " 21  max_floor_lvl              150634 non-null  int64  \n",
      " 22  year_completed             150634 non-null  int64  \n",
      " 23  residential                150634 non-null  object \n",
      " 24  commercial                 150634 non-null  object \n",
      " 25  market_hawker              150634 non-null  object \n",
      " 26  multistorey_carpark        150634 non-null  object \n",
      " 27  precinct_pavilion          150634 non-null  object \n",
      " 28  total_dwelling_units       150634 non-null  int64  \n",
      " 29  1room_sold                 150634 non-null  int64  \n",
      " 30  2room_sold                 150634 non-null  int64  \n",
      " 31  3room_sold                 150634 non-null  int64  \n",
      " 32  4room_sold                 150634 non-null  int64  \n",
      " 33  5room_sold                 150634 non-null  int64  \n",
      " 34  exec_sold                  150634 non-null  int64  \n",
      " 35  multigen_sold              150634 non-null  int64  \n",
      " 36  studio_apartment_sold      150634 non-null  int64  \n",
      " 37  1room_rental               150634 non-null  int64  \n",
      " 38  2room_rental               150634 non-null  int64  \n",
      " 39  3room_rental               150634 non-null  int64  \n",
      " 40  other_room_rental          150634 non-null  int64  \n",
      " 41  postal                     150634 non-null  object \n",
      " 42  Latitude                   150634 non-null  float64\n",
      " 43  Longitude                  150634 non-null  float64\n",
      " 44  planning_area              150634 non-null  object \n",
      " 45  Mall_Nearest_Distance      149805 non-null  float64\n",
      " 46  Mall_Within_500m           57845 non-null   float64\n",
      " 47  Mall_Within_1km            125208 non-null  float64\n",
      " 48  Mall_Within_2km            148694 non-null  float64\n",
      " 49  Hawker_Nearest_Distance    150634 non-null  float64\n",
      " 50  Hawker_Within_500m         53244 non-null   float64\n",
      " 51  Hawker_Within_1km          89766 non-null   float64\n",
      " 52  Hawker_Within_2km          121432 non-null  float64\n",
      " 53  hawker_food_stalls         150634 non-null  int64  \n",
      " 54  hawker_market_stalls       150634 non-null  int64  \n",
      " 55  mrt_nearest_distance       150634 non-null  float64\n",
      " 56  mrt_name                   150634 non-null  object \n",
      " 57  bus_interchange            150634 non-null  int64  \n",
      " 58  mrt_interchange            150634 non-null  int64  \n",
      " 59  mrt_latitude               150634 non-null  float64\n",
      " 60  mrt_longitude              150634 non-null  float64\n",
      " 61  bus_stop_nearest_distance  150634 non-null  float64\n",
      " 62  bus_stop_name              150634 non-null  object \n",
      " 63  bus_stop_latitude          150634 non-null  float64\n",
      " 64  bus_stop_longitude         150634 non-null  float64\n",
      " 65  pri_sch_nearest_distance   150634 non-null  float64\n",
      " 66  pri_sch_name               150634 non-null  object \n",
      " 67  vacancy                    150634 non-null  int64  \n",
      " 68  pri_sch_affiliation        150634 non-null  int64  \n",
      " 69  pri_sch_latitude           150634 non-null  float64\n",
      " 70  pri_sch_longitude          150634 non-null  float64\n",
      " 71  sec_sch_nearest_dist       150634 non-null  float64\n",
      " 72  sec_sch_name               150634 non-null  object \n",
      " 73  cutoff_point               150634 non-null  int64  \n",
      " 74  affiliation                150634 non-null  int64  \n",
      " 75  sec_sch_latitude           150634 non-null  float64\n",
      " 76  sec_sch_longitude          150634 non-null  float64\n",
      "dtypes: float64(25), int64(32), object(20)\n",
      "memory usage: 88.5+ MB\n"
     ]
    }
   ],
   "source": [
    "housing_df.info()"
   ]
  },
  {
   "cell_type": "code",
   "execution_count": 7,
   "id": "077fc823-daab-49b5-a104-f8600d53fe45",
   "metadata": {},
   "outputs": [],
   "source": [
    "#rename all columns using lower caps\n",
    "housing_df.columns=housing_df.columns.str.strip().str.lower() "
   ]
  },
  {
   "cell_type": "code",
   "execution_count": 8,
   "id": "d7a337ed-6cde-4d06-a14a-9b777253d3a3",
   "metadata": {},
   "outputs": [],
   "source": [
    "# rename to sec sch afiliation\n",
    "\n",
    "housing_df.rename(columns={'affiliation':'sec_sch_affiliation'},inplace=True)"
   ]
  },
  {
   "cell_type": "code",
   "execution_count": 9,
   "id": "d921d6b5",
   "metadata": {
    "scrolled": true
   },
   "outputs": [
    {
     "data": {
      "text/plain": [
       "mall_nearest_distance      829\n",
       "mall_within_500m         92789\n",
       "mall_within_1km          25426\n",
       "mall_within_2km           1940\n",
       "hawker_within_500m       97390\n",
       "hawker_within_1km        60868\n",
       "hawker_within_2km        29202\n",
       "dtype: int64"
      ]
     },
     "execution_count": 9,
     "metadata": {},
     "output_type": "execute_result"
    }
   ],
   "source": [
    "# check for nulls in each column\n",
    "housing_df[housing_df.columns[housing_df.isnull().any()]].isnull().sum()"
   ]
  },
  {
   "cell_type": "markdown",
   "id": "cd8e50a7",
   "metadata": {},
   "source": [
    "Out of all 76 columns in dataset, we have 7 columns containing nulls as shown above."
   ]
  },
  {
   "cell_type": "markdown",
   "id": "78cb2e1e-0422-47b8-a5bc-63041d86e656",
   "metadata": {},
   "source": [
    "### Accounting for null values in hawker quantity columns"
   ]
  },
  {
   "cell_type": "markdown",
   "id": "1d98a025-81ed-48c3-b8d9-30ee4643f461",
   "metadata": {},
   "source": [
    "As there are no missing values for hawker nearest distance, a possibility might be that the hawker nearest distance in specific rows has exceeded 500m/1km/2km, hence resulting in hawker null values. This can be easily validated by finding the minimum distance for specific rows containing nulls, as shown below."
   ]
  },
  {
   "cell_type": "code",
   "execution_count": 10,
   "id": "59d73b2f",
   "metadata": {},
   "outputs": [
    {
     "name": "stdout",
     "output_type": "stream",
     "text": [
      "Minimium distance greater than 500m: 500.209m\n",
      "Minimium distance greater than 1km: 1000.074m\n",
      "Minimium distance greater than 2km: 2000.872m\n"
     ]
    }
   ],
   "source": [
    "#check if there is any discrepancy in minimum distance larger than 500m/1km/2km for rows with missing hawker quantity\n",
    "\n",
    "print(f\"Minimium distance greater than 500m: \\\n",
    "{round(housing_df[housing_df['hawker_within_500m'].isnull()]['hawker_nearest_distance'].min(),3)}m\")\n",
    "\n",
    "print(f\"Minimium distance greater than 1km: \\\n",
    "{round(housing_df[housing_df['hawker_within_1km'].isnull()]['hawker_nearest_distance'].min(),3)}m\")\n",
    "\n",
    "print(f\"Minimium distance greater than 2km: \\\n",
    "{round(housing_df[housing_df['hawker_within_2km'].isnull()]['hawker_nearest_distance'].min(),3)}m\")"
   ]
  },
  {
   "cell_type": "markdown",
   "id": "3a72f719",
   "metadata": {},
   "source": [
    "For the rows with missing hawker value, we see that the available minimum distance greater than 500m, 1km and 2km is 500.209m, 1000.074m and 2000.872m respectively. This implies that the nulls in each of these 3 columns can be set to 0, since the minimum distance present is larger than the specified distance."
   ]
  },
  {
   "cell_type": "code",
   "execution_count": 11,
   "id": "e4417ec1",
   "metadata": {
    "scrolled": true
   },
   "outputs": [],
   "source": [
    "# replace all missing hawker value to 0\n",
    "housing_df.loc[housing_df['hawker_within_500m'].isnull(),'hawker_within_500m']=0\n",
    "housing_df.loc[housing_df['hawker_within_1km'].isnull(),'hawker_within_1km']=0\n",
    "housing_df.loc[housing_df['hawker_within_2km'].isnull(),'hawker_within_2km']=0"
   ]
  },
  {
   "cell_type": "markdown",
   "id": "71a018d5-4f9b-4120-9491-4408733651bc",
   "metadata": {},
   "source": [
    "### Accounting for null values in mall quantity columns"
   ]
  },
  {
   "cell_type": "markdown",
   "id": "7d368cfe-129f-48ba-915f-26d45623c6db",
   "metadata": {},
   "source": [
    "As we have 829 rows with missing mall nearest distance, firstly we need to address the nulls in this column before filling in the missing mall quantity values. The procedure to find the nearest mall distance in these rows is shown below.\n",
    "\n",
    "1. Retrieve all malls in Singapore, this can be done by webscraping from Wikipedia.\n",
    "2. Use OneMap API to locate the latitude/longitude of the malls.\n",
    "3. For each housing unit, calculate distance between itself and each mall using Haversine formula. Locate the minimum mall distance and replace the null value.\n",
    "\n",
    "An important point to note is that the rows with missing mall distance are identified through their row index in the dataset."
   ]
  },
  {
   "cell_type": "code",
   "execution_count": 12,
   "id": "50aa67b8-3a3a-4b74-bf88-400e260768b3",
   "metadata": {
    "scrolled": true,
    "tags": []
   },
   "outputs": [
    {
     "name": "stdout",
     "output_type": "stream",
     "text": [
      "Status Code:  200\n"
     ]
    },
    {
     "data": {
      "text/plain": [
       "['100 AM',\n",
       " '313@Somerset',\n",
       " 'Aperia',\n",
       " 'Balestier Hill Shopping Centre',\n",
       " 'Bugis Cube',\n",
       " 'Bugis Junction',\n",
       " 'Bugis+',\n",
       " 'Capitol Piazza',\n",
       " 'Cathay Cineleisure Orchard',\n",
       " 'Clarke Quay Central',\n",
       " 'The Centrepoint',\n",
       " 'City Square Mall',\n",
       " 'City Gate Mall',\n",
       " 'CityLink Mall',\n",
       " 'Duo',\n",
       " 'Far East Plaza',\n",
       " 'Funan',\n",
       " 'Great World City',\n",
       " 'HDB Hub',\n",
       " 'Holland Village Shopping Mall',\n",
       " 'ION Orchard',\n",
       " 'Junction 8',\n",
       " 'Knightsbridge',\n",
       " 'Liat Towers',\n",
       " 'Lucky Plaza',\n",
       " 'Marina Bay Sands',\n",
       " 'The Shoppes at Marina Bay Sands',\n",
       " 'Marina Bay Link Mall',\n",
       " 'Marina Square',\n",
       " 'Millenia Walk',\n",
       " 'Mustafa Shopping Centre',\n",
       " 'Ngee Ann City',\n",
       " 'Orchard Central',\n",
       " 'Orchard Gateway',\n",
       " 'Orchard Plaza',\n",
       " 'Midpoint Orchard',\n",
       " 'Palais Renaissance',\n",
       " \"People's Park Centre\",\n",
       " \"People's Park Complex\",\n",
       " 'Plaza Singapura',\n",
       " 'PoMo',\n",
       " 'Raffles City',\n",
       " 'Scotts Square',\n",
       " 'Shaw House and Centre',\n",
       " 'Sim Lim Square',\n",
       " 'Singapore Shopping Centre',\n",
       " 'The South Beach',\n",
       " 'Square 2',\n",
       " 'Sunshine Plaza',\n",
       " 'Suntec City',\n",
       " 'Tanglin Mall',\n",
       " 'Tanjong Pagar Centre',\n",
       " 'Tekka Centre',\n",
       " 'The Adelphi',\n",
       " 'The Paragon',\n",
       " 'Tiong Bahru Plaza',\n",
       " 'The Poiz',\n",
       " 'Thomson Plaza',\n",
       " 'United Square',\n",
       " 'Thomson V',\n",
       " 'Velocity@Novena Square',\n",
       " 'Wheelock Place',\n",
       " 'Wisma Atria',\n",
       " 'Zhongshan Mall',\n",
       " 'Bedok Mall',\n",
       " 'Century Square',\n",
       " 'Our Tampines Hub',\n",
       " 'Changi City Point',\n",
       " 'Downtown East',\n",
       " 'Djitsun Mall Bedok',\n",
       " 'Eastpoint Mall',\n",
       " 'Jewel Changi Airport',\n",
       " 'KINEX (formerly OneKM)',\n",
       " 'Katong Shopping Centre',\n",
       " 'Katong Square',\n",
       " 'Kallang Wave Mall',\n",
       " 'Leisure Park Kallang',\n",
       " 'i12 Katong',\n",
       " 'Parkway Parade',\n",
       " 'Paya Lebar Square',\n",
       " 'Paya Lebar Quarter (PLQ)',\n",
       " 'Roxy Square',\n",
       " 'Singpost Centre',\n",
       " 'Tampines 1',\n",
       " 'Tampines Mall',\n",
       " 'White Sands',\n",
       " 'City Plaza',\n",
       " 'Elias Mall',\n",
       " 'Loyang Point',\n",
       " '888 Plaza',\n",
       " 'Admiralty Place',\n",
       " 'AMK Hub',\n",
       " 'Canberra Plaza',\n",
       " 'Causeway Point',\n",
       " 'Woodlands Civic Centre',\n",
       " 'Broadway Plaza',\n",
       " 'Djitsun Mall',\n",
       " 'Jubilee Square',\n",
       " 'Junction 8',\n",
       " 'Junction Nine',\n",
       " 'Marsiling Mall',\n",
       " 'Northpoint City',\n",
       " 'Sembawang Shopping Centre',\n",
       " 'Sun Plaza',\n",
       " 'Vista Point',\n",
       " 'Wisteria Mall',\n",
       " 'Woodlands Mart',\n",
       " 'Woodlands North Plaza',\n",
       " 'Waterway Point',\n",
       " 'Compass One',\n",
       " 'Hougang Mall',\n",
       " 'Heartland Mall',\n",
       " 'NEX',\n",
       " 'Buangkok Square',\n",
       " 'Greenwich V',\n",
       " 'Hougang 1',\n",
       " 'Hougang Green Shopping Mall',\n",
       " 'Hougang Rivercourt',\n",
       " 'myVillage At Serangoon Garden',\n",
       " 'Northshore Plaza',\n",
       " 'Oasis Terraces',\n",
       " 'Punggol Plaza',\n",
       " 'Rivervale Mall',\n",
       " 'Rivervale Plaza',\n",
       " 'The Seletar Mall',\n",
       " 'Upper Serangoon Shopping Centre',\n",
       " 'Beauty World Centre',\n",
       " 'Beauty World Plaza',\n",
       " 'Bukit Panjang Plaza',\n",
       " 'Bukit Timah Plaza',\n",
       " 'Fajar Shopping Centre',\n",
       " 'Greenridge Shopping Centre',\n",
       " 'Hillion Mall',\n",
       " 'HillV2',\n",
       " 'Junction 10',\n",
       " 'Keat Hong Shopping Centre',\n",
       " 'Limbang Shopping Centre',\n",
       " 'Lot One',\n",
       " 'Rail Mall',\n",
       " 'Sunshine Place',\n",
       " 'Teck Whye Shopping Centre',\n",
       " 'West Mall',\n",
       " 'Yew Tee Point',\n",
       " 'Yew Tee Square',\n",
       " '321 Clementi',\n",
       " 'The Clementi Mall',\n",
       " 'IMM',\n",
       " 'JCube',\n",
       " 'Jem',\n",
       " 'Westgate',\n",
       " 'Jurong Point',\n",
       " 'Pioneer Mall',\n",
       " 'The Star Vista',\n",
       " 'Alexandra Central',\n",
       " 'Anchorpoint',\n",
       " 'OD Mall',\n",
       " 'Boon Lay Shopping Centre',\n",
       " 'Grantral Mall',\n",
       " 'Fairprice Hub',\n",
       " 'Gek Poh Shopping Centre',\n",
       " 'Rochester Mall',\n",
       " 'Taman Jurong Shopping Centre',\n",
       " 'West Coast Plaza',\n",
       " 'Queensway Shopping Centre']"
      ]
     },
     "execution_count": 12,
     "metadata": {},
     "output_type": "execute_result"
    }
   ],
   "source": [
    "# Retrieve all malls in Singapore from Wikipedia\n",
    "url='https://en.wikipedia.org/wiki/List_of_shopping_malls_in_Singapore'\n",
    "response = requests.get(url)\n",
    "print('Status Code: ',response.status_code)\n",
    "html = response.content\n",
    "soup = bs(html, 'lxml')\n",
    "soup\n",
    "\n",
    "malls = soup.find_all(\"div\",{'class':'div-col'})\n",
    "list_of_malls=[]\n",
    "for i in range(len(malls)):\n",
    "    list_of_malls+=[x.text for x in malls[i].find_all(\"li\")]\n",
    "list_of_malls=[x[:x.find(\"[\")] if x.find(\"[\")!=-1 else x for x in list_of_malls]\n",
    "list_of_malls"
   ]
  },
  {
   "cell_type": "code",
   "execution_count": 13,
   "id": "7bba2b1c",
   "metadata": {
    "scrolled": true,
    "tags": []
   },
   "outputs": [
    {
     "name": "stdout",
     "output_type": "stream",
     "text": [
      "100 AM, Latitude: 1.27458821795426 Longitude: 103.84347073661\n",
      "313@Somerset, Latitude: 1.30097808212211 Longitude: 103.838350465208\n",
      "Aperia, Latitude: 1.31047040225956 Longitude: 103.864287497404\n",
      "Balestier Hill Shopping Centre, Latitude: 1.32557113096136 Longitude: 103.842493835321\n",
      "Bugis Cube, Latitude: 1.29819500487878 Longitude: 103.855655544739\n",
      "Bugis Junction, Latitude: 1.2991371723215 Longitude: 103.855450325604\n",
      "Bugis+, Latitude: 1.30095171530648 Longitude: 103.855172625542\n",
      "Capitol Piazza, Latitude: 1.29306335877347 Longitude: 103.851293463737\n",
      "Cathay Cineleisure Orchard, Latitude: 1.30153093362853 Longitude: 103.836421018025\n",
      "No result for Clarke Quay Central\n",
      "The Centrepoint, Latitude: 1.30145045537088 Longitude: 103.840034074858\n",
      "City Square Mall, Latitude: 1.31135169933195 Longitude: 103.856724057693\n",
      "No result for City Gate Mall\n",
      "CityLink Mall, Latitude: 1.29260349413333 Longitude: 103.854316064564\n",
      "Duo, Latitude: 1.29953434891664 Longitude: 103.85840168774\n",
      "Far East Plaza, Latitude: 1.30730468891062 Longitude: 103.833818438639\n",
      "Funan, Latitude: 1.29124400604241 Longitude: 103.849984790048\n",
      "Great World City, Latitude: 1.2934759620704 Longitude: 103.831975865363\n",
      "HDB Hub, Latitude: 1.3319945640368 Longitude: 103.849796100473\n",
      "No result for Holland Village Shopping Mall\n",
      "ION Orchard, Latitude: 1.30473094842364 Longitude: 103.831465536872\n",
      "Junction 8, Latitude: 1.35068626255041 Longitude: 103.848949711733\n",
      "Knightsbridge, Latitude: 1.3029831225958 Longitude: 103.836283923443\n",
      "Liat Towers, Latitude: 1.30510759038418 Longitude: 103.830727915062\n",
      "Lucky Plaza, Latitude: 1.3044637897474 Longitude: 103.834005158524\n",
      "Marina Bay Sands, Latitude: 1.28345419690844 Longitude: 103.860809048956\n",
      "The Shoppes at Marina Bay Sands, Latitude: 1.28423496027027 Longitude: 103.85898228297\n",
      "Marina Bay Link Mall, Latitude: 1.28003113385646 Longitude: 103.854284863268\n",
      "Marina Square, Latitude: 1.29145526802576 Longitude: 103.857007335679\n",
      "Millenia Walk, Latitude: 1.29267926922552 Longitude: 103.860302888543\n",
      "No result for Mustafa Shopping Centre\n",
      "Ngee Ann City, Latitude: 1.3022727300848 Longitude: 103.834899517575\n",
      "Orchard Central, Latitude: 1.30072350356704 Longitude: 103.839692368177\n",
      "Orchard Gateway, Latitude: 1.30156308609768 Longitude: 103.838914998409\n",
      "Orchard Plaza, Latitude: 1.30126533034758 Longitude: 103.841151770727\n",
      "Midpoint Orchard, Latitude: 1.30178378195546 Longitude: 103.838660627347\n",
      "Palais Renaissance, Latitude: 1.30665484543191 Longitude: 103.829588045188\n",
      "People's Park Centre, Latitude: 1.28580583517057 Longitude: 103.844032214205\n",
      "People's Park Complex, Latitude: 1.28404487854559 Longitude: 103.842590753293\n",
      "Plaza Singapura, Latitude: 1.30083497231103 Longitude: 103.845072925117\n",
      "No result for PoMo\n",
      "Raffles City, Latitude: 1.29408304748297 Longitude: 103.853339531257\n",
      "Scotts Square, Latitude: 1.30580609670053 Longitude: 103.833059609864\n",
      "No result for Shaw House and Centre\n",
      "Sim Lim Square, Latitude: 1.30302298414827 Longitude: 103.853038663425\n",
      "Singapore Shopping Centre, Latitude: 1.28649701803051 Longitude: 103.844628721032\n",
      "The South Beach, Latitude: 1.29498804392056 Longitude: 103.856276242094\n",
      "Square 2, Latitude: 1.27830729633252 Longitude: 103.850795180871\n",
      "Sunshine Plaza, Latitude: 1.30047107224304 Longitude: 103.850687337448\n",
      "Suntec City, Latitude: 1.29350132535558 Longitude: 103.857307495824\n",
      "Tanglin Mall, Latitude: 1.30485342102105 Longitude: 103.823883490852\n",
      "Tanjong Pagar Centre, Latitude: 1.2755961982077 Longitude: 103.842393171342\n",
      "Tekka Centre, Latitude: 1.30671098278725 Longitude: 103.85013440636\n",
      "The Adelphi, Latitude: 1.29115683869179 Longitude: 103.851044280765\n",
      "The Paragon, Latitude: 1.30394936355298 Longitude: 103.835844227627\n",
      "Tiong Bahru Plaza, Latitude: 1.28633177192832 Longitude: 103.827550771424\n",
      "The Poiz, Latitude: 1.33202729656296 Longitude: 103.868659488195\n",
      "Thomson Plaza, Latitude: 1.35432524181867 Longitude: 103.830328102656\n",
      "United Square, Latitude: 1.31724362960663 Longitude: 103.844003130499\n",
      "Thomson V, Latitude: 1.35319495337208 Longitude: 103.835564729862\n",
      "Velocity@Novena Square, Latitude: 1.31978949204523 Longitude: 103.844033569199\n",
      "Wheelock Place, Latitude: 1.3045363597328 Longitude: 103.830714231109\n",
      "Wisma Atria, Latitude: 1.30370452023703 Longitude: 103.833200970183\n",
      "Zhongshan Mall, Latitude: 1.32694504484324 Longitude: 103.846554377679\n",
      "Bedok Mall, Latitude: 1.32475054237912 Longitude: 103.92918919889\n",
      "Century Square, Latitude: 1.35227804040128 Longitude: 103.943727694121\n",
      "Our Tampines Hub, Latitude: 1.35349593581988 Longitude: 103.940139392679\n",
      "Changi City Point, Latitude: 1.33414983488993 Longitude: 103.962981783778\n",
      "Downtown East, Latitude: 1.37912717878008 Longitude: 103.955444758145\n",
      "Djitsun Mall Bedok, Latitude: 1.32605319910571 Longitude: 103.929604640137\n",
      "Eastpoint Mall, Latitude: 1.34269199750599 Longitude: 103.953050756306\n",
      "Jewel Changi Airport, Latitude: 1.36023106736765 Longitude: 103.989457201894\n",
      "No result for KINEX (formerly OneKM)\n",
      "Katong Shopping Centre, Latitude: 1.30382040183737 Longitude: 103.901040040407\n",
      "Katong Square, Latitude: 1.30485337061959 Longitude: 103.904574221324\n",
      "Kallang Wave Mall, Latitude: 1.30384327182319 Longitude: 103.872750701661\n",
      "Leisure Park Kallang, Latitude: 1.30240462507128 Longitude: 103.876638148971\n",
      "i12 Katong, Latitude: 1.30522306203042 Longitude: 103.905043928938\n",
      "Parkway Parade, Latitude: 1.30108003311455 Longitude: 103.90528181445\n",
      "Paya Lebar Square, Latitude: 1.31881486980278 Longitude: 103.892580778242\n",
      "No result for Paya Lebar Quarter (PLQ)\n",
      "Roxy Square, Latitude: 1.30433308408718 Longitude: 103.904060346056\n",
      "Singpost Centre, Latitude: 1.3188718443127 Longitude: 103.894767139006\n",
      "Tampines 1, Latitude: 1.34476753336302 Longitude: 103.938277054384\n",
      "Tampines Mall, Latitude: 1.35259361362837 Longitude: 103.944785968039\n",
      "White Sands, Latitude: 1.37234519149636 Longitude: 103.949805421214\n",
      "City Plaza, Latitude: 1.31480522272254 Longitude: 103.893418325845\n",
      "Elias Mall, Latitude: 1.37790533095468 Longitude: 103.94233582068\n",
      "Loyang Point, Latitude: 1.36706634197242 Longitude: 103.964635610477\n",
      "888 Plaza, Latitude: 1.43713052444868 Longitude: 103.795289911954\n",
      "Admiralty Place, Latitude: 1.44042008562425 Longitude: 103.801541769047\n",
      "AMK Hub, Latitude: 1.36922321403001 Longitude: 103.848467911464\n",
      "Canberra Plaza, Latitude: 1.44324523168314 Longitude: 103.83052345616\n",
      "Causeway Point, Latitude: 1.43600784474269 Longitude: 103.78568873405\n",
      "Woodlands Civic Centre, Latitude: 1.43515024446739 Longitude: 103.786816106255\n",
      "Broadway Plaza, Latitude: 1.37193646369426 Longitude: 103.845973776855\n",
      "Djitsun Mall, Latitude: 1.32605319910571 Longitude: 103.929604640137\n",
      "Jubilee Square, Latitude: 1.37178558575829 Longitude: 103.847837565378\n",
      "Junction 8, Latitude: 1.35068626255041 Longitude: 103.848949711733\n",
      "Junction Nine, Latitude: 1.43306021695327 Longitude: 103.841649364872\n",
      "Marsiling Mall, Latitude: 1.43351253520759 Longitude: 103.779746860157\n",
      "Northpoint City, Latitude: 1.42803585211784 Longitude: 103.836092100712\n",
      "Sembawang Shopping Centre, Latitude: 1.44185307934021 Longitude: 103.824970378482\n",
      "Sun Plaza, Latitude: 1.44820036592783 Longitude: 103.819530140823\n",
      "Vista Point, Latitude: 1.4308011390122 Longitude: 103.794104795966\n",
      "Wisteria Mall, Latitude: 1.41798969122298 Longitude: 103.841317292608\n",
      "Woodlands Mart, Latitude: 1.44564787003157 Longitude: 103.798162285805\n",
      "Woodlands North Plaza, Latitude: 1.44283592110679 Longitude: 103.790770766025\n",
      "Waterway Point, Latitude: 1.40638209616982 Longitude: 103.902243744842\n",
      "Compass One, Latitude: 1.39209415594052 Longitude: 103.894980025383\n",
      "Hougang Mall, Latitude: 1.37248308734511 Longitude: 103.893788141349\n",
      "Heartland Mall, Latitude: 1.35954450890401 Longitude: 103.885169070198\n",
      "NEX, Latitude: 1.3506755212032 Longitude: 103.871861615443\n",
      "Buangkok Square, Latitude: 1.38433426615655 Longitude: 103.881623070164\n",
      "Greenwich V, Latitude: 1.38760330190633 Longitude: 103.869423629864\n",
      "Hougang 1, Latitude: 1.35659543728082 Longitude: 103.889837028233\n",
      "Hougang Green Shopping Mall, Latitude: 1.37931783499145 Longitude: 103.88784708944\n",
      "Hougang Rivercourt, Latitude: 1.3630200986731 Longitude: 103.894665312237\n",
      "myVillage At Serangoon Garden, Latitude: 1.36516071264446 Longitude: 103.865041851733\n",
      "Northshore Plaza, Latitude: 1.416849810947 Longitude: 103.90213684712\n",
      "Oasis Terraces, Latitude: 1.40263460056252 Longitude: 103.913270565628\n",
      "Punggol Plaza, Latitude: 1.39417447299355 Longitude: 103.913120037036\n",
      "Rivervale Mall, Latitude: 1.39221732695142 Longitude: 103.904473070943\n",
      "Rivervale Plaza, Latitude: 1.38550420775531 Longitude: 103.901988424927\n",
      "The Seletar Mall, Latitude: 1.39150192642807 Longitude: 103.87617162828\n",
      "Upper Serangoon Shopping Centre, Latitude: 1.35348088326122 Longitude: 103.878828409594\n",
      "Beauty World Centre, Latitude: 1.34241264188643 Longitude: 103.776539385678\n",
      "Beauty World Plaza, Latitude: 1.34178799847019 Longitude: 103.776304121109\n",
      "Bukit Panjang Plaza, Latitude: 1.38052239451717 Longitude: 103.764051414862\n",
      "Bukit Timah Plaza, Latitude: 1.33865677622928 Longitude: 103.778560467143\n",
      "Fajar Shopping Centre, Latitude: 1.38358020347573 Longitude: 103.770810440603\n",
      "Greenridge Shopping Centre, Latitude: 1.38529556526689 Longitude: 103.766170530147\n",
      "Hillion Mall, Latitude: 1.37848224932124 Longitude: 103.763672842754\n",
      "HillV2, Latitude: 1.36355095770679 Longitude: 103.76423610633\n",
      "Junction 10, Latitude: 1.38018163022688 Longitude: 103.76041930548\n",
      "Keat Hong Shopping Centre, Latitude: 1.37743963497469 Longitude: 103.744383225412\n",
      "Limbang Shopping Centre, Latitude: 1.39222033136152 Longitude: 103.743611063324\n",
      "Lot One, Latitude: 1.38506992325619 Longitude: 103.745238868238\n",
      "Rail Mall, Latitude: 1.35773806047539 Longitude: 103.768142119259\n",
      "Sunshine Place, Latitude: 1.37789727709418 Longitude: 103.739015486021\n",
      "Teck Whye Shopping Centre, Latitude: 1.3800477264564 Longitude: 103.752464583648\n",
      "West Mall, Latitude: 1.35029683568301 Longitude: 103.749064191572\n",
      "Yew Tee Point, Latitude: 1.39708432396576 Longitude: 103.746598000147\n",
      "Yew Tee Square, Latitude: 1.39834776480802 Longitude: 103.747224809089\n",
      "321 Clementi, Latitude: 1.31202491824439 Longitude: 103.764960537008\n",
      "The Clementi Mall, Latitude: 1.31489619639366 Longitude: 103.764423054189\n",
      "IMM, Latitude: 1.33489844010888 Longitude: 103.746734487309\n",
      "JCube, Latitude: 1.33323785085838 Longitude: 103.740191321438\n",
      "Jem, Latitude: 1.33320021829132 Longitude: 103.743170428258\n",
      "Westgate, Latitude: 1.33428313049536 Longitude: 103.742870105512\n",
      "Jurong Point, Latitude: 1.33945200436319 Longitude: 103.706685012654\n",
      "Pioneer Mall, Latitude: 1.34167331883255 Longitude: 103.697244542805\n",
      "The Star Vista, Latitude: 1.30681500712523 Longitude: 103.788462732266\n",
      "Alexandra Central, Latitude: 1.28747707652854 Longitude: 103.805253381137\n",
      "Anchorpoint, Latitude: 1.28893477974497 Longitude: 103.805607779399\n",
      "No result for OD Mall\n",
      "Boon Lay Shopping Centre, Latitude: 1.34637376380504 Longitude: 103.712472819666\n",
      "Grantral Mall, Latitude: 1.31423131705905 Longitude: 103.765097562497\n",
      "Fairprice Hub, Latitude: 1.32539180665075 Longitude: 103.678392265337\n",
      "Gek Poh Shopping Centre, Latitude: 1.3487416466288 Longitude: 103.697739629738\n",
      "Rochester Mall, Latitude: 1.30540765569962 Longitude: 103.788446680148\n",
      "Taman Jurong Shopping Centre, Latitude: 1.33484487471259 Longitude: 103.720462024278\n",
      "West Coast Plaza, Latitude: 1.30358622534992 Longitude: 103.76610375397\n",
      "Queensway Shopping Centre, Latitude: 1.2876179255874 Longitude: 103.803391140455\n"
     ]
    }
   ],
   "source": [
    "# Obtaining Mall Coordinates in Singapore from OneMAP API\n",
    "list_of_malls\n",
    "mall_name = []\n",
    "mall_lat = []\n",
    "mall_long = []\n",
    "\n",
    "for i in range(0, len(list_of_malls)):\n",
    "    query_address = list_of_malls[i]\n",
    "    query_string = 'https://developers.onemap.sg/commonapi/search?searchVal='+str(query_address)+'&returnGeom=Y&getAddrDetails=Y'\n",
    "    resp = requests.get(query_string)\n",
    "    data_mall=json.loads(resp.content)\n",
    "    \n",
    "    if data_mall['found'] != 0:\n",
    "        mall_name.append(query_address)\n",
    "        mall_lat.append(float(data_mall[\"results\"][0][\"LATITUDE\"]))\n",
    "        mall_long.append(float(data_mall[\"results\"][0][\"LONGITUDE\"]))\n",
    "\n",
    "        print (str(query_address)+\", Latitude: \"+data_mall['results'][0]['LATITUDE'] +\" Longitude: \"+data_mall['results'][0]['LONGITUDE'])\n",
    "\n",
    "    else:\n",
    "        print (f\"No result for {list_of_malls[i]}\")"
   ]
  },
  {
   "cell_type": "markdown",
   "id": "52c70e53-272d-4f46-ae16-86c3a2c84d6e",
   "metadata": {},
   "source": [
    "We observe 9 malls that were unable to retrieve latitude and longitude values automatically, this missing latitude/longitude information will be added manually by looking up online or refining the search term in OneMAP API."
   ]
  },
  {
   "cell_type": "code",
   "execution_count": 14,
   "id": "bb68333d-e299-4cef-87a0-a00cfe11fbe8",
   "metadata": {},
   "outputs": [],
   "source": [
    "#add in latitude and longitude manually as search criteria not exactly matching between Wikipedia and OneMAP API\n",
    "missing_malls={\n",
    "    'Mall': ['Clarke Quay Central','City Gate Mall','Holland Village Shopping Mall','Mustafa Shopping Centre','PoMo','Shaw House and Centre','KINEX','Paya Lebar Quarter (PLQ)','OD Mall'],\n",
    "    'Latitude': [1.2882413,1.30231590504573,1.31027747574118,1.31011213190394,1.300058,1.305512,1.31479,1.317369,1.3380],\n",
    "    'Longitude': [103.846430401652,103.862331661034,103.795371163103,103.855290873926,103.849079,103.831755,103.89464,103.893266,103.7934]\n",
    "}\n",
    "\n",
    "mall_name += missing_malls['Mall']\n",
    "mall_lat += missing_malls['Latitude']\n",
    "mall_long += missing_malls['Longitude']"
   ]
  },
  {
   "cell_type": "code",
   "execution_count": 15,
   "id": "6837b7da-b586-40df-aa7e-004bc407fe72",
   "metadata": {},
   "outputs": [],
   "source": [
    "#calculate distance between 2 points using Haversine formula\n",
    "\n",
    "from math import radians, cos, sin, asin, sqrt\n",
    "def dist(lat1, lon1, lat2, lon2):\n",
    "     \n",
    "    # The math module contains a function named radians which converts from degrees to radians.\n",
    "    lon1 = radians(lon1)\n",
    "    lon2 = radians(lon2)\n",
    "    lat1 = radians(lat1)\n",
    "    lat2 = radians(lat2)\n",
    "      \n",
    "    # Haversine formula\n",
    "    dlon = lon2 - lon1\n",
    "    dlat = lat2 - lat1\n",
    "    a = sin(dlat / 2)**2 + cos(lat1) * cos(lat2) * sin(dlon / 2)**2\n",
    " \n",
    "    c = 2 * asin(sqrt(a))\n",
    "    \n",
    "    # Radius of earth in kilometers. Use 3956 for miles\n",
    "    r = 6371\n",
    "      \n",
    "    # calculate the result\n",
    "    return(c *r*1000)"
   ]
  },
  {
   "cell_type": "code",
   "execution_count": 16,
   "id": "92ff7e35-8046-4c83-94f6-4541be94075d",
   "metadata": {
    "scrolled": true,
    "tags": []
   },
   "outputs": [],
   "source": [
    "missing_lat=[x[42] for x in housing_df[housing_df['mall_nearest_distance'].isnull()].values]\n",
    "missing_long=[x[43] for x in housing_df[housing_df['mall_nearest_distance'].isnull()].values]"
   ]
  },
  {
   "cell_type": "code",
   "execution_count": 17,
   "id": "9d331d9d-ec89-4726-88b5-3bc7f26ac78c",
   "metadata": {},
   "outputs": [],
   "source": [
    "row_index=housing_df[housing_df['mall_nearest_distance'].isnull()]['mall_nearest_distance'].index"
   ]
  },
  {
   "cell_type": "code",
   "execution_count": 18,
   "id": "7ee71629-45ff-42fd-812f-e434455455d6",
   "metadata": {
    "scrolled": true,
    "tags": []
   },
   "outputs": [
    {
     "name": "stdout",
     "output_type": "stream",
     "text": [
      "[75, 321, 478, 643, 691, 835, 990, 1092, 1160, 1292, 1575, 1593, 1766, 2222, 2517, 2524, 3094, 3165, 3333, 3399, 3472, 4258, 4357, 4436, 4492, 4680, 4912, 4970, 5364, 5375, 5723, 5737, 5898, 6019, 6152, 6771, 6800, 6860, 7263, 7346, 7381, 7531, 7637, 8110, 8148, 8434, 8528, 8616, 8915, 9151, 9156, 9691, 9899, 10108, 10404, 10461, 10465, 10574, 10768, 10820, 11221, 11259, 11280, 11290, 11307, 11516, 11776, 11787, 11853, 12297, 12410, 13038, 13042, 13077, 13306, 13332, 13390, 13470, 13616, 13967, 14203, 14298, 14422, 14471, 14659, 15315, 15471, 15612, 15785, 16297, 16447, 16503, 16668, 16788, 16806, 17282, 17705, 17863, 17987, 18034, 18164, 18172, 18272, 18614, 18696, 18848, 19078, 19292, 19310, 19458, 19469, 19628, 19658, 19828, 19852, 20115, 20234, 20256, 20516, 21421, 21472, 22427, 22704, 22705, 22837, 22963, 23364, 23518, 23592, 23902, 23976, 24023, 24054, 24056, 24545, 25651, 25755, 25853, 25928, 26237, 26716, 26944, 27322, 27505, 27513, 27619, 28074, 28213, 28273, 28319, 28472, 28563, 28618, 28817, 28902, 29074, 29419, 29940, 30073, 30331, 30429, 30667, 30723, 30859, 30888, 31439, 31535, 31726, 31734, 31739, 31909, 32004, 32021, 32055, 32515, 32588, 32915, 33014, 33255, 33273, 33361, 33373, 33509, 33697, 34070, 34347, 34482, 35008, 35379, 35389, 35515, 35666, 35938, 35952, 36099, 36173, 36308, 36398, 36585, 36639, 36819, 36900, 37318, 37384, 37494, 38914, 39347, 39461, 40264, 40373, 40394, 40849, 40891, 40981, 40997, 41062, 41213, 41657, 41663, 41771, 41792, 41841, 42599, 42719, 42754, 42988, 43297, 43780, 43942, 44040, 44051, 44233, 44274, 44644, 44782, 44790, 45064, 45659, 46168, 46238, 46330, 46346, 46895, 46932, 47031, 47130, 47220, 47260, 47430, 47457, 47487, 47816, 47870, 47915, 48149, 48760, 48767, 48938, 49045, 49096, 49194, 49286, 49355, 49575, 49715, 49787, 49979, 50054, 50149, 50266, 50467, 50476, 50562, 50579, 50595, 50800, 51099, 51296, 51310, 51715, 51733, 51781, 51849, 51888, 52237, 52253, 52349, 52489, 52656, 52924, 53225, 53420, 53447, 53528, 53639, 54079, 54170, 54423, 54934, 54991, 55096, 55395, 55510, 55874, 56002, 56044, 56217, 57273, 57354, 57821, 57825, 58005, 58100, 58102, 58422, 58760, 58992, 59228, 59284, 59473, 59789, 59826, 59848, 59891, 59984, 60388, 60505, 60648, 60671, 60819, 60944, 60952, 60957, 61008, 61121, 61199, 61204, 61273, 61330, 61333, 62021, 62055, 62271, 62301, 62562, 62775, 62832, 63196, 63266, 63318, 63330, 64143, 64512, 64516, 64548, 64704, 65106, 65118, 65428, 65771, 66066, 66163, 66177, 66228, 66274, 66398, 66456, 66782, 66853, 66862, 66943, 67257, 67413, 67465, 67679, 67705, 67928, 67980, 68055, 68176, 68595, 68720, 68760, 68994, 69122, 69217, 69605, 69733, 69930, 70367, 70429, 70445, 70462, 70506, 70523, 70550, 70554, 71061, 71399, 71595, 71649, 71703, 71907, 71919, 72359, 72785, 72792, 72863, 72970, 72975, 73188, 73580, 73600, 73656, 73714, 73721, 73730, 73771, 73918, 73953, 74195, 74225, 74525, 74555, 74609, 74669, 74680, 74923, 75385, 75397, 75437, 75474, 75629, 75653, 75697, 75873, 76134, 76199, 76524, 76557, 76562, 76886, 76995, 77203, 77598, 77719, 77733, 77741, 78479, 78629, 78683, 78868, 78901, 79169, 79190, 79373, 79566, 79750, 80033, 80120, 80942, 81081, 81581, 81728, 82017, 82086, 82243, 82246, 82468, 82469, 82632, 82653, 82834, 82989, 83148, 83484, 83539, 84151, 84228, 84366, 84821, 85014, 85129, 85230, 85322, 85356, 85741, 86139, 86395, 86420, 86492, 86514, 86653, 86789, 87220, 87425, 87501, 87534, 87634, 87872, 87873, 88052, 88092, 88322, 88507, 88672, 88907, 89581, 89626, 89696, 89752, 89955, 89973, 90091, 90129, 90168, 90569, 90613, 91057, 91266, 91446, 91494, 91575, 92104, 92269, 92371, 92504, 92567, 92643, 92722, 92831, 92845, 92971, 92990, 93076, 93084, 93102, 93366, 93682, 93853, 93907, 94536, 94934, 94984, 95009, 95345, 95358, 95416, 95532, 95703, 95770, 95959, 96331, 96366, 96641, 96852, 97162, 97527, 97656, 97946, 98067, 98104, 98151, 98215, 98428, 98465, 99354, 99771, 99820, 99936, 100000, 100035, 100059, 100143, 100301, 100331, 100340, 100348, 100405, 100436, 100870, 101072, 101095, 101635, 101747, 101874, 101927, 101929, 101970, 102002, 102060, 102103, 102224, 102335, 102594, 102597, 102788, 102850, 103301, 104209, 104258, 104330, 104634, 104745, 104799, 104886, 104910, 105011, 105147, 105269, 105275, 105295, 105305, 105386, 105522, 105597, 106011, 106253, 106462, 106554, 106658, 107482, 107483, 107561, 107652, 107680, 107688, 108242, 108306, 108423, 108597, 109208, 109243, 109397, 109410, 110011, 110046, 110145, 110166, 110467, 110491, 110499, 110629, 111048, 111173, 111361, 111478, 111581, 111783, 111801, 112092, 112385, 112386, 112531, 112560, 112573, 112775, 113269, 113381, 113532, 113667, 113846, 113895, 114075, 114134, 114173, 114428, 114577, 114580, 114618, 115295, 115519, 116200, 116257, 116636, 116694, 117248, 117281, 117409, 117429, 117612, 117704, 117766, 118587, 118979, 119073, 119532, 119805, 119854, 119927, 120374, 120493, 120583, 120703, 120880, 121119, 121170, 121766, 121773, 121848, 121892, 122427, 122975, 123044, 123091, 123284, 123460, 123733, 123848, 124034, 124165, 124171, 124319, 124405, 124504, 124625, 124643, 124692, 125093, 125550, 125558, 125792, 125800, 126100, 126119, 126341, 126572, 126793, 126939, 127160, 127391, 127515, 127599, 127825, 128381, 128606, 128720, 128788, 129072, 129948, 130280, 130373, 131102, 131516, 132236, 132282, 132412, 132560, 132738, 132786, 132809, 132819, 133169, 133328, 133537, 133573, 133684, 133772, 134306, 134355, 134673, 135105, 135346, 135470, 135686, 135980, 136177, 136189, 136232, 136440, 136563, 137620, 137626, 137972, 138402, 138417, 138449, 138584, 138672, 139166, 139196, 139205, 139896, 139943, 140442, 141002, 141014, 141472, 141734, 142147, 142330, 142378, 142382, 142722, 142885, 142898, 143045, 143316, 143319, 144237, 144628, 144722, 144809, 145299, 145527, 145603, 145643, 145729, 145857, 145928, 145945, 145959, 146670, 147416, 147813, 147889, 148371, 148471, 148710, 148925, 149236, 149675, 149736, 149909, 150296, 150388, 150394, 150479, 150625]\n"
     ]
    }
   ],
   "source": [
    "#row index where mall nearest distance is null\n",
    "print(list(row_index))"
   ]
  },
  {
   "cell_type": "code",
   "execution_count": 19,
   "id": "35db36e4-2e89-4874-8c47-b34cac286edb",
   "metadata": {},
   "outputs": [],
   "source": [
    "def mall_nearest_dist(latitude,longitude):\n",
    "    distance=[]\n",
    "    for i in range(len(latitude)):\n",
    "        x=[]\n",
    "        for j in range(len(mall_name)):\n",
    "            x.append(dist(latitude[i],longitude[i],mall_lat[j],mall_long[j]))\n",
    "        distance.append(pd.DataFrame(x).min().values[0])\n",
    "    return distance\n",
    "\n",
    "distance=pd.DataFrame(mall_nearest_dist(missing_lat,missing_long)).rename(columns={0:'mall_nearest_distance'})\n",
    "distance.rename(index={x:row_index[x] for x in range(len(distance))},inplace=True)\n",
    "\n",
    "def mall_dist(x):\n",
    "    if pd.isna(housing_df['mall_nearest_distance'][x]):\n",
    "        return distance['mall_nearest_distance'][x]\n",
    "    else:\n",
    "        pass"
   ]
  },
  {
   "cell_type": "code",
   "execution_count": 20,
   "id": "71a41ec5-e907-4c40-88b5-697d1ca509f7",
   "metadata": {},
   "outputs": [
    {
     "data": {
      "text/html": [
       "<div>\n",
       "<style scoped>\n",
       "    .dataframe tbody tr th:only-of-type {\n",
       "        vertical-align: middle;\n",
       "    }\n",
       "\n",
       "    .dataframe tbody tr th {\n",
       "        vertical-align: top;\n",
       "    }\n",
       "\n",
       "    .dataframe thead th {\n",
       "        text-align: right;\n",
       "    }\n",
       "</style>\n",
       "<table border=\"1\" class=\"dataframe\">\n",
       "  <thead>\n",
       "    <tr style=\"text-align: right;\">\n",
       "      <th></th>\n",
       "      <th>mall_nearest_distance</th>\n",
       "    </tr>\n",
       "  </thead>\n",
       "  <tbody>\n",
       "    <tr>\n",
       "      <th>75</th>\n",
       "      <td>713.252783</td>\n",
       "    </tr>\n",
       "    <tr>\n",
       "      <th>321</th>\n",
       "      <td>364.332266</td>\n",
       "    </tr>\n",
       "    <tr>\n",
       "      <th>478</th>\n",
       "      <td>1249.235253</td>\n",
       "    </tr>\n",
       "    <tr>\n",
       "      <th>643</th>\n",
       "      <td>452.221992</td>\n",
       "    </tr>\n",
       "    <tr>\n",
       "      <th>691</th>\n",
       "      <td>125.537430</td>\n",
       "    </tr>\n",
       "    <tr>\n",
       "      <th>...</th>\n",
       "      <td>...</td>\n",
       "    </tr>\n",
       "    <tr>\n",
       "      <th>150296</th>\n",
       "      <td>615.808682</td>\n",
       "    </tr>\n",
       "    <tr>\n",
       "      <th>150388</th>\n",
       "      <td>422.996655</td>\n",
       "    </tr>\n",
       "    <tr>\n",
       "      <th>150394</th>\n",
       "      <td>607.721286</td>\n",
       "    </tr>\n",
       "    <tr>\n",
       "      <th>150479</th>\n",
       "      <td>516.718308</td>\n",
       "    </tr>\n",
       "    <tr>\n",
       "      <th>150625</th>\n",
       "      <td>422.781412</td>\n",
       "    </tr>\n",
       "  </tbody>\n",
       "</table>\n",
       "<p>829 rows × 1 columns</p>\n",
       "</div>"
      ],
      "text/plain": [
       "        mall_nearest_distance\n",
       "75                 713.252783\n",
       "321                364.332266\n",
       "478               1249.235253\n",
       "643                452.221992\n",
       "691                125.537430\n",
       "...                       ...\n",
       "150296             615.808682\n",
       "150388             422.996655\n",
       "150394             607.721286\n",
       "150479             516.718308\n",
       "150625             422.781412\n",
       "\n",
       "[829 rows x 1 columns]"
      ]
     },
     "execution_count": 20,
     "metadata": {},
     "output_type": "execute_result"
    }
   ],
   "source": [
    "distance"
   ]
  },
  {
   "cell_type": "code",
   "execution_count": 21,
   "id": "fc614ab4-f639-4889-a5f3-6937b0838397",
   "metadata": {},
   "outputs": [],
   "source": [
    "# if null detected in mall nearest distance, it will be replaced by a value from the distance dataframe (with matching index, \n",
    "# since the row index with nulls has already been established)\n",
    "for i in range(len(housing_df)):\n",
    "    if i in row_index.values:\n",
    "        housing_df.loc[i,'mall_nearest_distance']=mall_dist(i)"
   ]
  },
  {
   "cell_type": "code",
   "execution_count": 22,
   "id": "5ecce480-3750-425a-a871-696dd7cc84e9",
   "metadata": {},
   "outputs": [
    {
     "data": {
      "text/plain": [
       "mall_nearest_distance      0\n",
       "mall_within_500m         829\n",
       "mall_within_1km          829\n",
       "mall_within_2km          829\n",
       "dtype: int64"
      ]
     },
     "execution_count": 22,
     "metadata": {},
     "output_type": "execute_result"
    }
   ],
   "source": [
    "housing_df.loc[row_index,['mall_nearest_distance','mall_within_500m','mall_within_1km','mall_within_2km']].isnull().sum()"
   ]
  },
  {
   "cell_type": "markdown",
   "id": "e33d6e93-ac90-4147-91cf-862223cb9783",
   "metadata": {},
   "source": [
    "These 829 rows already have a nearest mall distance, as expected they do not have a mall quantity within 500m/1km/2km. We proceed to calculate the 3 values for each row."
   ]
  },
  {
   "cell_type": "code",
   "execution_count": 23,
   "id": "2768f2c5-86e9-4405-a70c-1861a56701ee",
   "metadata": {},
   "outputs": [],
   "source": [
    "def mall_500m(latitude,longitude):\n",
    "    n_malls_500m=[]\n",
    "    for i in range(len(latitude)):\n",
    "        x=[]\n",
    "        for j in range(len(mall_name)):\n",
    "            x.append(dist(latitude[i],longitude[i],mall_lat[j],mall_long[j]))\n",
    "        x=pd.DataFrame(x).rename(columns={0:'dist'})\n",
    "        n_malls_500m.append(x[x['dist']<=500].count().values[0])\n",
    "    return n_malls_500m\n",
    "\n",
    "n_malls_500m=pd.DataFrame(mall_500m(missing_lat,missing_long)).rename(columns={0:'mall_within_500m'})\n",
    "n_malls_500m.rename(index={x:row_index[x] for x in range(len(distance))},inplace=True)"
   ]
  },
  {
   "cell_type": "code",
   "execution_count": 24,
   "id": "9b857f55-8325-4359-988e-c5d8682e7e4a",
   "metadata": {},
   "outputs": [
    {
     "data": {
      "text/html": [
       "<div>\n",
       "<style scoped>\n",
       "    .dataframe tbody tr th:only-of-type {\n",
       "        vertical-align: middle;\n",
       "    }\n",
       "\n",
       "    .dataframe tbody tr th {\n",
       "        vertical-align: top;\n",
       "    }\n",
       "\n",
       "    .dataframe thead th {\n",
       "        text-align: right;\n",
       "    }\n",
       "</style>\n",
       "<table border=\"1\" class=\"dataframe\">\n",
       "  <thead>\n",
       "    <tr style=\"text-align: right;\">\n",
       "      <th></th>\n",
       "      <th>mall_within_500m</th>\n",
       "    </tr>\n",
       "  </thead>\n",
       "  <tbody>\n",
       "    <tr>\n",
       "      <th>75</th>\n",
       "      <td>0</td>\n",
       "    </tr>\n",
       "    <tr>\n",
       "      <th>321</th>\n",
       "      <td>1</td>\n",
       "    </tr>\n",
       "    <tr>\n",
       "      <th>478</th>\n",
       "      <td>0</td>\n",
       "    </tr>\n",
       "    <tr>\n",
       "      <th>643</th>\n",
       "      <td>1</td>\n",
       "    </tr>\n",
       "    <tr>\n",
       "      <th>691</th>\n",
       "      <td>3</td>\n",
       "    </tr>\n",
       "    <tr>\n",
       "      <th>...</th>\n",
       "      <td>...</td>\n",
       "    </tr>\n",
       "    <tr>\n",
       "      <th>150296</th>\n",
       "      <td>0</td>\n",
       "    </tr>\n",
       "    <tr>\n",
       "      <th>150388</th>\n",
       "      <td>1</td>\n",
       "    </tr>\n",
       "    <tr>\n",
       "      <th>150394</th>\n",
       "      <td>0</td>\n",
       "    </tr>\n",
       "    <tr>\n",
       "      <th>150479</th>\n",
       "      <td>0</td>\n",
       "    </tr>\n",
       "    <tr>\n",
       "      <th>150625</th>\n",
       "      <td>1</td>\n",
       "    </tr>\n",
       "  </tbody>\n",
       "</table>\n",
       "<p>829 rows × 1 columns</p>\n",
       "</div>"
      ],
      "text/plain": [
       "        mall_within_500m\n",
       "75                     0\n",
       "321                    1\n",
       "478                    0\n",
       "643                    1\n",
       "691                    3\n",
       "...                  ...\n",
       "150296                 0\n",
       "150388                 1\n",
       "150394                 0\n",
       "150479                 0\n",
       "150625                 1\n",
       "\n",
       "[829 rows x 1 columns]"
      ]
     },
     "execution_count": 24,
     "metadata": {},
     "output_type": "execute_result"
    }
   ],
   "source": [
    "n_malls_500m"
   ]
  },
  {
   "cell_type": "code",
   "execution_count": 25,
   "id": "47f73813-1727-414b-9f51-a98f04a97e97",
   "metadata": {},
   "outputs": [],
   "source": [
    "# calculate the number of malls within 500m if the row index previously had a null value for mall_nearest_distance\n",
    "for i in range(len(housing_df)):\n",
    "    if i in row_index.values:\n",
    "        housing_df.loc[i,'mall_within_500m']=n_malls_500m['mall_within_500m'][i]"
   ]
  },
  {
   "cell_type": "code",
   "execution_count": 26,
   "id": "eec0c2b1-837d-46f0-8908-1897e7f45b95",
   "metadata": {},
   "outputs": [],
   "source": [
    "def mall_1km(latitude,longitude):\n",
    "    n_malls_1km=[]\n",
    "    for i in range(len(latitude)):\n",
    "        x=[]\n",
    "        for j in range(len(mall_name)):\n",
    "            x.append(dist(latitude[i],longitude[i],mall_lat[j],mall_long[j]))\n",
    "        x=pd.DataFrame(x).rename(columns={0:'dist'})\n",
    "        n_malls_1km.append(x[x['dist']<=1000].count().values[0])\n",
    "    return n_malls_1km\n",
    "\n",
    "n_malls_1km=pd.DataFrame(mall_1km(missing_lat,missing_long)).rename(columns={0:'mall_within_1km'})\n",
    "n_malls_1km.rename(index={x:row_index[x] for x in range(len(distance))},inplace=True)"
   ]
  },
  {
   "cell_type": "code",
   "execution_count": 27,
   "id": "399b06be-267d-45ae-b35f-3aca6a92bcce",
   "metadata": {},
   "outputs": [
    {
     "data": {
      "text/html": [
       "<div>\n",
       "<style scoped>\n",
       "    .dataframe tbody tr th:only-of-type {\n",
       "        vertical-align: middle;\n",
       "    }\n",
       "\n",
       "    .dataframe tbody tr th {\n",
       "        vertical-align: top;\n",
       "    }\n",
       "\n",
       "    .dataframe thead th {\n",
       "        text-align: right;\n",
       "    }\n",
       "</style>\n",
       "<table border=\"1\" class=\"dataframe\">\n",
       "  <thead>\n",
       "    <tr style=\"text-align: right;\">\n",
       "      <th></th>\n",
       "      <th>mall_within_1km</th>\n",
       "    </tr>\n",
       "  </thead>\n",
       "  <tbody>\n",
       "    <tr>\n",
       "      <th>75</th>\n",
       "      <td>1</td>\n",
       "    </tr>\n",
       "    <tr>\n",
       "      <th>321</th>\n",
       "      <td>3</td>\n",
       "    </tr>\n",
       "    <tr>\n",
       "      <th>478</th>\n",
       "      <td>0</td>\n",
       "    </tr>\n",
       "    <tr>\n",
       "      <th>643</th>\n",
       "      <td>2</td>\n",
       "    </tr>\n",
       "    <tr>\n",
       "      <th>691</th>\n",
       "      <td>3</td>\n",
       "    </tr>\n",
       "    <tr>\n",
       "      <th>...</th>\n",
       "      <td>...</td>\n",
       "    </tr>\n",
       "    <tr>\n",
       "      <th>150296</th>\n",
       "      <td>1</td>\n",
       "    </tr>\n",
       "    <tr>\n",
       "      <th>150388</th>\n",
       "      <td>2</td>\n",
       "    </tr>\n",
       "    <tr>\n",
       "      <th>150394</th>\n",
       "      <td>2</td>\n",
       "    </tr>\n",
       "    <tr>\n",
       "      <th>150479</th>\n",
       "      <td>2</td>\n",
       "    </tr>\n",
       "    <tr>\n",
       "      <th>150625</th>\n",
       "      <td>2</td>\n",
       "    </tr>\n",
       "  </tbody>\n",
       "</table>\n",
       "<p>829 rows × 1 columns</p>\n",
       "</div>"
      ],
      "text/plain": [
       "        mall_within_1km\n",
       "75                    1\n",
       "321                   3\n",
       "478                   0\n",
       "643                   2\n",
       "691                   3\n",
       "...                 ...\n",
       "150296                1\n",
       "150388                2\n",
       "150394                2\n",
       "150479                2\n",
       "150625                2\n",
       "\n",
       "[829 rows x 1 columns]"
      ]
     },
     "execution_count": 27,
     "metadata": {},
     "output_type": "execute_result"
    }
   ],
   "source": [
    "n_malls_1km"
   ]
  },
  {
   "cell_type": "code",
   "execution_count": 28,
   "id": "f6dae891-d7b1-416c-8489-fc4459cb21e4",
   "metadata": {},
   "outputs": [],
   "source": [
    "for i in range(len(housing_df)):\n",
    "    if i in row_index.values:\n",
    "        housing_df.loc[i,'mall_within_1km']=n_malls_1km['mall_within_1km'][i]"
   ]
  },
  {
   "cell_type": "code",
   "execution_count": null,
   "id": "ff101532-1605-474f-9b23-6a5e3617bf68",
   "metadata": {},
   "outputs": [],
   "source": [
    "def mall_2km(latitude,longitude):\n",
    "    n_malls_2km=[]\n",
    "    for i in range(len(latitude)):\n",
    "        x=[]\n",
    "        for j in range(len(mall_name)):\n",
    "            #x.append(dist(missing.values[0][2],missing.values[0][3],mall_lat[i],mall_long[i]))\n",
    "            x.append(dist(latitude[i],longitude[i],mall_lat[j],mall_long[j]))\n",
    "        x=pd.DataFrame(x).rename(columns={0:'dist'})\n",
    "        n_malls_2km.append(x[x['dist']<=2000].count().values[0])\n",
    "    return n_malls_2km\n",
    "\n",
    "n_malls_2km=pd.DataFrame(mall_2km(missing_lat,missing_long)).rename(columns={0:'mall_within_2km'})\n",
    "n_malls_2km.rename(index={x:row_index[x] for x in range(len(distance))},inplace=True)"
   ]
  },
  {
   "cell_type": "code",
   "execution_count": null,
   "id": "2829736d-0dee-44c4-97d4-102f550270ee",
   "metadata": {},
   "outputs": [],
   "source": [
    "n_malls_2km"
   ]
  },
  {
   "cell_type": "code",
   "execution_count": null,
   "id": "8efd8252-f76e-4d7d-9821-a9c8312f0dad",
   "metadata": {},
   "outputs": [],
   "source": [
    "for i in range(len(housing_df)):\n",
    "    if i in row_index.values:\n",
    "        housing_df.loc[i,'mall_within_2km']=n_malls_2km['mall_within_2km'][i]"
   ]
  },
  {
   "cell_type": "code",
   "execution_count": null,
   "id": "2a3a82ce-a686-4b96-9287-6f9e24f6550e",
   "metadata": {},
   "outputs": [],
   "source": [
    "housing_df.loc[:,['mall_nearest_distance','mall_within_500m','mall_within_1km','mall_within_2km']].isnull().sum()"
   ]
  },
  {
   "cell_type": "markdown",
   "id": "359fa33b-aca2-4d00-a554-027ddf810133",
   "metadata": {},
   "source": [
    "As there are no missing values for mall nearest distance, it is highly likely that the mall nearest distance in specific rows has exceeded 500m/1km/2km, hence resulting in mall null values. This can be easily validated by finding the minimum distance for specific rows containing nulls, as shown below."
   ]
  },
  {
   "cell_type": "code",
   "execution_count": null,
   "id": "5c8bd8a6-224a-49c4-abc2-126cb7b62c9e",
   "metadata": {},
   "outputs": [],
   "source": [
    "#check if there is any discrepancy in minimum mall distance larger than 500m/1km/2km for rows with missing mall count\n",
    "print(f\"Minimium mall distance greater than 500m: \\\n",
    "{round(housing_df[housing_df['mall_within_500m'].isnull()]['mall_nearest_distance'].min(),3)}m\")\n",
    "\n",
    "print(f\"Minimium mall distance greater than 1km: \\\n",
    "{round(housing_df[housing_df['mall_within_1km'].isnull()]['mall_nearest_distance'].min(),3)}m\")\n",
    "\n",
    "print(f\"Minimium mall distance greater than 2km: \\\n",
    "{round(housing_df[housing_df['mall_within_2km'].isnull()]['mall_nearest_distance'].min(),3)}m\")"
   ]
  },
  {
   "cell_type": "markdown",
   "id": "40d34173-bbeb-4373-8ac4-3e57ebef2d4a",
   "metadata": {},
   "source": [
    "For the rows with missing mall value, we see that the available minimum distance greater than 500m, 1km and 2km is 500.056m, 1000.023m and 2000.176m respectively. This implies that the nulls in each of these 3 columns can be set to 0, since the minimum distance present is larger than the specified distance."
   ]
  },
  {
   "cell_type": "code",
   "execution_count": null,
   "id": "434052fb-72f8-445d-a8cd-202e35e824f0",
   "metadata": {},
   "outputs": [],
   "source": [
    "housing_df.loc[housing_df['mall_within_500m'].isnull(),'mall_within_500m']=0\n",
    "housing_df.loc[housing_df['mall_within_1km'].isnull(),'mall_within_1km']=0\n",
    "housing_df.loc[housing_df['mall_within_2km'].isnull(),'mall_within_2km']=0"
   ]
  },
  {
   "cell_type": "markdown",
   "id": "298c9101-a240-45d6-ae40-22c7cb0c4813",
   "metadata": {},
   "source": [
    "Lastly, we convert the values in specific columns to appropriate data types. This is done at the very end as there were nulls in some of the columns and datatype conversion was not possible."
   ]
  },
  {
   "cell_type": "code",
   "execution_count": null,
   "id": "6d2fe126-5027-4041-8235-8d4e30abeea1",
   "metadata": {},
   "outputs": [],
   "source": [
    "#change specific columns in dataset to appropriate data types\n",
    "housing_df['id']=housing_df['id'].map(lambda x: str(x))\n",
    "housing_df['mall_within_500m']=housing_df['mall_within_500m'].map(lambda x: int(x))\n",
    "housing_df['mall_within_1km']=housing_df['mall_within_1km'].map(lambda x: int(x))\n",
    "housing_df['mall_within_2km']=housing_df['mall_within_2km'].map(lambda x: int(x))\n",
    "housing_df['hawker_within_500m']=housing_df['hawker_within_500m'].map(lambda x: int(x))\n",
    "housing_df['hawker_within_1km']=housing_df['hawker_within_1km'].map(lambda x: int(x))\n",
    "housing_df['hawker_within_2km']=housing_df['hawker_within_2km'].map(lambda x: int(x))"
   ]
  },
  {
   "cell_type": "code",
   "execution_count": null,
   "id": "f87f7f7b-c5fa-4945-bb5b-1cd25e2d7a40",
   "metadata": {},
   "outputs": [],
   "source": [
    "# to verify if there are any missing values in each column\n",
    "housing_df.isnull().sum().sum()"
   ]
  },
  {
   "cell_type": "code",
   "execution_count": null,
   "id": "f3cce9dc-df7a-4feb-898a-f1f2a117fcc9",
   "metadata": {},
   "outputs": [],
   "source": [
    "# to check if there are any identical rows\n",
    "housing_df.duplicated().sum()"
   ]
  },
  {
   "cell_type": "markdown",
   "id": "ea2917bb-648a-4e7e-9539-a2c7ee56c7b0",
   "metadata": {},
   "source": [
    "We have verified that the housing dataset does not contain any nulls and no duplicated rows are seen as well."
   ]
  },
  {
   "cell_type": "code",
   "execution_count": null,
   "id": "7232405f-57ef-4f8e-84db-f83585cb843a",
   "metadata": {},
   "outputs": [],
   "source": [
    "#save and export data for further analysis\n",
    "housing_df.to_csv(\"../datasets/cleaned_housing_data.csv\",index=False)"
   ]
  }
 ],
 "metadata": {
  "kernelspec": {
   "display_name": "Python [conda env:dsi-sg]",
   "language": "python",
   "name": "conda-env-dsi-sg-py"
  },
  "language_info": {
   "codemirror_mode": {
    "name": "ipython",
    "version": 3
   },
   "file_extension": ".py",
   "mimetype": "text/x-python",
   "name": "python",
   "nbconvert_exporter": "python",
   "pygments_lexer": "ipython3",
   "version": "3.9.13"
  }
 },
 "nbformat": 4,
 "nbformat_minor": 5
}
