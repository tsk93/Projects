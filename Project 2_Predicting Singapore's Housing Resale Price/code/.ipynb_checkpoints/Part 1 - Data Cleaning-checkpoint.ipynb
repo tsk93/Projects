{
 "cells": [
  {
   "cell_type": "markdown",
   "id": "9196a928",
   "metadata": {},
   "source": [
    "# Part 1 - Data Cleaning"
   ]
  },
  {
   "cell_type": "code",
   "execution_count": null,
   "id": "a193553b",
   "metadata": {},
   "outputs": [],
   "source": [
    "# import libraries\n",
    "import pandas as pd\n",
    "import seaborn as sns\n",
    "import numpy as np\n",
    "import matplotlib.pyplot as plt\n",
    "import requests\n",
    "from bs4 import BeautifulSoup as bs\n",
    "import json\n",
    "import requests\n",
    "%matplotlib inline"
   ]
  },
  {
   "cell_type": "code",
   "execution_count": null,
   "id": "8d504054",
   "metadata": {
    "scrolled": true,
    "tags": []
   },
   "outputs": [],
   "source": [
    "# import data\n",
    "housing_df=pd.read_csv(\"../datasets/train.csv\")\n",
    "housing_df.head()"
   ]
  },
  {
   "cell_type": "markdown",
   "id": "d57d3338",
   "metadata": {},
   "source": [
    "We observe column 42 (postal) has mixed data types. Here we standardise the datatype in this column by setting as string."
   ]
  },
  {
   "cell_type": "code",
   "execution_count": null,
   "id": "c35f1874-4b15-45cb-b9a4-9aa9ea8fba28",
   "metadata": {
    "scrolled": true
   },
   "outputs": [],
   "source": [
    "housing_df.columns[42]"
   ]
  },
  {
   "cell_type": "code",
   "execution_count": null,
   "id": "912e6a27-fbcf-4681-9e0b-704b65eadaed",
   "metadata": {},
   "outputs": [],
   "source": [
    "# convert postal to string\n",
    "housing_df['postal']=housing_df['postal'].map(lambda x: str(x))"
   ]
  },
  {
   "cell_type": "code",
   "execution_count": null,
   "id": "5b6c3a99",
   "metadata": {},
   "outputs": [],
   "source": [
    "housing_df.shape"
   ]
  },
  {
   "cell_type": "code",
   "execution_count": null,
   "id": "075b738d",
   "metadata": {
    "scrolled": true
   },
   "outputs": [],
   "source": [
    "housing_df.info()"
   ]
  },
  {
   "cell_type": "code",
   "execution_count": null,
   "id": "077fc823-daab-49b5-a104-f8600d53fe45",
   "metadata": {},
   "outputs": [],
   "source": [
    "#rename all columns using lower caps\n",
    "housing_df.columns=housing_df.columns.str.strip().str.lower() "
   ]
  },
  {
   "cell_type": "code",
   "execution_count": null,
   "id": "d7a337ed-6cde-4d06-a14a-9b777253d3a3",
   "metadata": {},
   "outputs": [],
   "source": [
    "# rename to sec sch afiliation\n",
    "\n",
    "housing_df.rename(columns={'affiliation':'sec_sch_affiliation'},inplace=True)"
   ]
  },
  {
   "cell_type": "code",
   "execution_count": null,
   "id": "d921d6b5",
   "metadata": {
    "scrolled": true
   },
   "outputs": [],
   "source": [
    "# check for nulls in each column\n",
    "housing_df[housing_df.columns[housing_df.isnull().any()]].isnull().sum()"
   ]
  },
  {
   "cell_type": "markdown",
   "id": "cd8e50a7",
   "metadata": {},
   "source": [
    "Out of all 76 columns in dataset, we have 7 columns containing nulls as shown above."
   ]
  },
  {
   "cell_type": "markdown",
   "id": "78cb2e1e-0422-47b8-a5bc-63041d86e656",
   "metadata": {},
   "source": [
    "### Accounting for null values in hawker quantity columns"
   ]
  },
  {
   "cell_type": "markdown",
   "id": "1d98a025-81ed-48c3-b8d9-30ee4643f461",
   "metadata": {},
   "source": [
    "As there are no missing values for hawker nearest distance, a possibility might be that the hawker nearest distance in specific rows has exceeded 500m/1km/2km, hence resulting in hawker null values. This can be easily validated by finding the minimum distance for specific rows containing nulls, as shown below."
   ]
  },
  {
   "cell_type": "code",
   "execution_count": null,
   "id": "59d73b2f",
   "metadata": {},
   "outputs": [],
   "source": [
    "#check if there is any discrepancy in minimum distance larger than 500m/1km/2km for rows with missing hawker quantity\n",
    "\n",
    "print(f\"Minimium distance greater than 500m: \\\n",
    "{round(housing_df[housing_df['hawker_within_500m'].isnull()]['hawker_nearest_distance'].min(),3)}m\")\n",
    "\n",
    "print(f\"Minimium distance greater than 1km: \\\n",
    "{round(housing_df[housing_df['hawker_within_1km'].isnull()]['hawker_nearest_distance'].min(),3)}m\")\n",
    "\n",
    "print(f\"Minimium distance greater than 2km: \\\n",
    "{round(housing_df[housing_df['hawker_within_2km'].isnull()]['hawker_nearest_distance'].min(),3)}m\")"
   ]
  },
  {
   "cell_type": "markdown",
   "id": "3a72f719",
   "metadata": {},
   "source": [
    "For the rows with missing hawker value, we see that the available minimum distance greater than 500m, 1km and 2km is 500.209m, 1000.074m and 2000.872m respectively. This implies that the nulls in each of these 3 columns can be set to 0, since the minimum distance present is larger than the specified distance."
   ]
  },
  {
   "cell_type": "code",
   "execution_count": null,
   "id": "e4417ec1",
   "metadata": {
    "scrolled": true
   },
   "outputs": [],
   "source": [
    "# replace all missing hawker value to 0\n",
    "housing_df.loc[housing_df['hawker_within_500m'].isnull(),'hawker_within_500m']=0\n",
    "housing_df.loc[housing_df['hawker_within_1km'].isnull(),'hawker_within_1km']=0\n",
    "housing_df.loc[housing_df['hawker_within_2km'].isnull(),'hawker_within_2km']=0"
   ]
  },
  {
   "cell_type": "markdown",
   "id": "71a018d5-4f9b-4120-9491-4408733651bc",
   "metadata": {},
   "source": [
    "### Accounting for null values in mall quantity columns"
   ]
  },
  {
   "cell_type": "markdown",
   "id": "7d368cfe-129f-48ba-915f-26d45623c6db",
   "metadata": {},
   "source": [
    "As we have 829 rows with missing mall nearest distance, firstly we need to address the nulls in this column before filling in the missing mall quantity values. The procedure to find the nearest mall distance in these rows is shown below.\n",
    "\n",
    "1. Retrieve all malls in Singapore, this can be done by webscraping from Wikipedia.\n",
    "2. Use OneMap API to locate the latitude/longitude of the malls.\n",
    "3. For each housing unit, calculate distance between itself and each mall using Haversine formula. Locate the minimum mall distance and replace the null value.\n",
    "\n",
    "An important point to note is that the rows with missing mall distance are identified through their row index in the dataset."
   ]
  },
  {
   "cell_type": "code",
   "execution_count": null,
   "id": "50aa67b8-3a3a-4b74-bf88-400e260768b3",
   "metadata": {
    "scrolled": true,
    "tags": []
   },
   "outputs": [],
   "source": [
    "# Retrieve all malls in Singapore from Wikipedia\n",
    "url='https://en.wikipedia.org/wiki/List_of_shopping_malls_in_Singapore'\n",
    "response = requests.get(url)\n",
    "print('Status Code: ',response.status_code)\n",
    "html = response.content\n",
    "soup = bs(html, 'lxml')\n",
    "soup\n",
    "\n",
    "malls = soup.find_all(\"div\",{'class':'div-col'})\n",
    "list_of_malls=[]\n",
    "for i in range(len(malls)):\n",
    "    list_of_malls+=[x.text for x in malls[i].find_all(\"li\")]\n",
    "list_of_malls=[x[:x.find(\"[\")] if x.find(\"[\")!=-1 else x for x in list_of_malls]\n",
    "list_of_malls"
   ]
  },
  {
   "cell_type": "code",
   "execution_count": null,
   "id": "7bba2b1c",
   "metadata": {
    "scrolled": true,
    "tags": []
   },
   "outputs": [],
   "source": [
    "# Obtaining Mall Coordinates in Singapore from OneMAP API\n",
    "list_of_malls\n",
    "mall_name = []\n",
    "mall_lat = []\n",
    "mall_long = []\n",
    "\n",
    "for i in range(0, len(list_of_malls)):\n",
    "    query_address = list_of_malls[i]\n",
    "    query_string = 'https://developers.onemap.sg/commonapi/search?searchVal='+str(query_address)+'&returnGeom=Y&getAddrDetails=Y'\n",
    "    resp = requests.get(query_string)\n",
    "    data_mall=json.loads(resp.content)\n",
    "    \n",
    "    if data_mall['found'] != 0:\n",
    "        mall_name.append(query_address)\n",
    "        mall_lat.append(float(data_mall[\"results\"][0][\"LATITUDE\"]))\n",
    "        mall_long.append(float(data_mall[\"results\"][0][\"LONGITUDE\"]))\n",
    "\n",
    "        print (str(query_address)+\", Latitude: \"+data_mall['results'][0]['LATITUDE'] +\" Longitude: \"+data_mall['results'][0]['LONGITUDE'])\n",
    "\n",
    "    else:\n",
    "        print (f\"No result for {list_of_malls[i]}\")"
   ]
  },
  {
   "cell_type": "markdown",
   "id": "52c70e53-272d-4f46-ae16-86c3a2c84d6e",
   "metadata": {},
   "source": [
    "We observe 9 malls that were unable to retrieve latitude and longitude values automatically, this missing latitude/longitude information will be added manually by looking up online or refining the search term in OneMAP API."
   ]
  },
  {
   "cell_type": "code",
   "execution_count": null,
   "id": "bb68333d-e299-4cef-87a0-a00cfe11fbe8",
   "metadata": {},
   "outputs": [],
   "source": [
    "#add in latitude and longitude manually as search criteria not exactly matching between Wikipedia and OneMAP API\n",
    "missing_malls={\n",
    "    'Mall': ['Clarke Quay Central','City Gate Mall','Holland Village Shopping Mall','Mustafa Shopping Centre','PoMo','Shaw House and Centre','KINEX','Paya Lebar Quarter (PLQ)','OD Mall'],\n",
    "    'Latitude': [1.2882413,1.30231590504573,1.31027747574118,1.31011213190394,1.300058,1.305512,1.31479,1.317369,1.3380],\n",
    "    'Longitude': [103.846430401652,103.862331661034,103.795371163103,103.855290873926,103.849079,103.831755,103.89464,103.893266,103.7934]\n",
    "}\n",
    "\n",
    "mall_name += missing_malls['Mall']\n",
    "mall_lat += missing_malls['Latitude']\n",
    "mall_long += missing_malls['Longitude']"
   ]
  },
  {
   "cell_type": "code",
   "execution_count": null,
   "id": "6837b7da-b586-40df-aa7e-004bc407fe72",
   "metadata": {},
   "outputs": [],
   "source": [
    "#calculate distance between 2 points using Haversine formula\n",
    "\n",
    "from math import radians, cos, sin, asin, sqrt\n",
    "def dist(lat1, lon1, lat2, lon2):\n",
    "     \n",
    "    # The math module contains a function named radians which converts from degrees to radians.\n",
    "    lon1 = radians(lon1)\n",
    "    lon2 = radians(lon2)\n",
    "    lat1 = radians(lat1)\n",
    "    lat2 = radians(lat2)\n",
    "      \n",
    "    # Haversine formula\n",
    "    dlon = lon2 - lon1\n",
    "    dlat = lat2 - lat1\n",
    "    a = sin(dlat / 2)**2 + cos(lat1) * cos(lat2) * sin(dlon / 2)**2\n",
    " \n",
    "    c = 2 * asin(sqrt(a))\n",
    "    \n",
    "    # Radius of earth in kilometers. Use 3956 for miles\n",
    "    r = 6371\n",
    "      \n",
    "    # calculate the result\n",
    "    return(c *r*1000)"
   ]
  },
  {
   "cell_type": "code",
   "execution_count": null,
   "id": "92ff7e35-8046-4c83-94f6-4541be94075d",
   "metadata": {
    "scrolled": true,
    "tags": []
   },
   "outputs": [],
   "source": [
    "missing_lat=[x[43] for x in housing_df[housing_df['mall_nearest_distance'].isnull()].values]\n",
    "missing_long=[x[44] for x in housing_df[housing_df['mall_nearest_distance'].isnull()].values]"
   ]
  },
  {
   "cell_type": "code",
   "execution_count": null,
   "id": "9d331d9d-ec89-4726-88b5-3bc7f26ac78c",
   "metadata": {},
   "outputs": [],
   "source": [
    "row_index=housing_df[housing_df['mall_nearest_distance'].isnull()]['mall_nearest_distance'].index"
   ]
  },
  {
   "cell_type": "code",
   "execution_count": null,
   "id": "7ee71629-45ff-42fd-812f-e434455455d6",
   "metadata": {
    "scrolled": true,
    "tags": []
   },
   "outputs": [],
   "source": [
    "#row index where mall nearest distance is null\n",
    "print(list(row_index))"
   ]
  },
  {
   "cell_type": "code",
   "execution_count": null,
   "id": "35db36e4-2e89-4874-8c47-b34cac286edb",
   "metadata": {},
   "outputs": [],
   "source": [
    "def mall_nearest_dist(latitude,longitude):\n",
    "    distance=[]\n",
    "    for i in range(len(latitude)):\n",
    "        x=[]\n",
    "        for j in range(len(mall_name)):\n",
    "            x.append(dist(latitude[i],longitude[i],mall_lat[j],mall_long[j]))\n",
    "        distance.append(pd.DataFrame(x).min().values[0])\n",
    "    return distance\n",
    "\n",
    "distance=pd.DataFrame(mall_nearest_dist(missing_lat,missing_long)).rename(columns={0:'mall_nearest_distance'})\n",
    "distance.rename(index={x:row_index[x] for x in range(len(distance))},inplace=True)\n",
    "\n",
    "def mall_dist(x):\n",
    "    if pd.isna(housing_df['mall_nearest_distance'][x]):\n",
    "        return distance['mall_nearest_distance'][x]\n",
    "    else:\n",
    "        pass"
   ]
  },
  {
   "cell_type": "code",
   "execution_count": null,
   "id": "71a41ec5-e907-4c40-88b5-697d1ca509f7",
   "metadata": {},
   "outputs": [],
   "source": [
    "distance"
   ]
  },
  {
   "cell_type": "code",
   "execution_count": null,
   "id": "fc614ab4-f639-4889-a5f3-6937b0838397",
   "metadata": {},
   "outputs": [],
   "source": [
    "# if null detected in mall nearest distance, it will be replaced by a value from the distance dataframe (with matching index, \n",
    "# since the row index with nulls has already been established)\n",
    "for i in range(len(housing_df)):\n",
    "    if i in row_index.values:\n",
    "        housing_df.loc[i,'mall_nearest_distance']=mall_dist(i)"
   ]
  },
  {
   "cell_type": "code",
   "execution_count": null,
   "id": "5ecce480-3750-425a-a871-696dd7cc84e9",
   "metadata": {},
   "outputs": [],
   "source": [
    "housing_df.loc[row_index,['mall_nearest_distance','mall_within_500m','mall_within_1km','mall_within_2km']].isnull().sum()"
   ]
  },
  {
   "cell_type": "markdown",
   "id": "e33d6e93-ac90-4147-91cf-862223cb9783",
   "metadata": {},
   "source": [
    "These 829 rows already have a nearest mall distance, as expected they do not have a mall quantity within 500m/1km/2km. We proceed to calculate the 3 values for each row."
   ]
  },
  {
   "cell_type": "code",
   "execution_count": null,
   "id": "2768f2c5-86e9-4405-a70c-1861a56701ee",
   "metadata": {},
   "outputs": [],
   "source": [
    "def mall_500m(latitude,longitude):\n",
    "    n_malls_500m=[]\n",
    "    for i in range(len(latitude)):\n",
    "        x=[]\n",
    "        for j in range(len(mall_name)):\n",
    "            x.append(dist(latitude[i],longitude[i],mall_lat[j],mall_long[j]))\n",
    "        x=pd.DataFrame(x).rename(columns={0:'dist'})\n",
    "        n_malls_500m.append(x[x['dist']<=500].count().values[0])\n",
    "    return n_malls_500m\n",
    "\n",
    "n_malls_500m=pd.DataFrame(mall_500m(missing_lat,missing_long)).rename(columns={0:'mall_within_500m'})\n",
    "n_malls_500m.rename(index={x:row_index[x] for x in range(len(distance))},inplace=True)"
   ]
  },
  {
   "cell_type": "code",
   "execution_count": null,
   "id": "9b857f55-8325-4359-988e-c5d8682e7e4a",
   "metadata": {},
   "outputs": [],
   "source": [
    "n_malls_500m"
   ]
  },
  {
   "cell_type": "code",
   "execution_count": null,
   "id": "47f73813-1727-414b-9f51-a98f04a97e97",
   "metadata": {},
   "outputs": [],
   "source": [
    "# calculate the number of malls within 500m if the row index previously had a null value for mall_nearest_distance\n",
    "for i in range(len(housing_df)):\n",
    "    if i in row_index.values:\n",
    "        housing_df.loc[i,'mall_within_500m']=n_malls_500m['mall_within_500m'][i]"
   ]
  },
  {
   "cell_type": "code",
   "execution_count": null,
   "id": "eec0c2b1-837d-46f0-8908-1897e7f45b95",
   "metadata": {},
   "outputs": [],
   "source": [
    "def mall_1km(latitude,longitude):\n",
    "    n_malls_1km=[]\n",
    "    for i in range(len(latitude)):\n",
    "        x=[]\n",
    "        for j in range(len(mall_name)):\n",
    "            x.append(dist(latitude[i],longitude[i],mall_lat[j],mall_long[j]))\n",
    "        x=pd.DataFrame(x).rename(columns={0:'dist'})\n",
    "        n_malls_1km.append(x[x['dist']<=1000].count().values[0])\n",
    "    return n_malls_1km\n",
    "\n",
    "n_malls_1km=pd.DataFrame(mall_1km(missing_lat,missing_long)).rename(columns={0:'mall_within_1km'})\n",
    "n_malls_1km.rename(index={x:row_index[x] for x in range(len(distance))},inplace=True)"
   ]
  },
  {
   "cell_type": "code",
   "execution_count": null,
   "id": "399b06be-267d-45ae-b35f-3aca6a92bcce",
   "metadata": {},
   "outputs": [],
   "source": [
    "n_malls_1km"
   ]
  },
  {
   "cell_type": "code",
   "execution_count": null,
   "id": "f6dae891-d7b1-416c-8489-fc4459cb21e4",
   "metadata": {},
   "outputs": [],
   "source": [
    "for i in range(len(housing_df)):\n",
    "    if i in row_index.values:\n",
    "        housing_df.loc[i,'mall_within_1km']=n_malls_1km['mall_within_1km'][i]"
   ]
  },
  {
   "cell_type": "code",
   "execution_count": null,
   "id": "ff101532-1605-474f-9b23-6a5e3617bf68",
   "metadata": {},
   "outputs": [],
   "source": [
    "def mall_2km(latitude,longitude):\n",
    "    n_malls_2km=[]\n",
    "    for i in range(len(latitude)):\n",
    "        x=[]\n",
    "        for j in range(len(mall_name)):\n",
    "            x.append(dist(latitude[i],longitude[i],mall_lat[j],mall_long[j]))\n",
    "        x=pd.DataFrame(x).rename(columns={0:'dist'})\n",
    "        n_malls_2km.append(x[x['dist']<=2000].count().values[0])\n",
    "    return n_malls_2km\n",
    "\n",
    "n_malls_2km=pd.DataFrame(mall_2km(missing_lat,missing_long)).rename(columns={0:'mall_within_2km'})\n",
    "n_malls_2km.rename(index={x:row_index[x] for x in range(len(distance))},inplace=True)"
   ]
  },
  {
   "cell_type": "code",
   "execution_count": null,
   "id": "2829736d-0dee-44c4-97d4-102f550270ee",
   "metadata": {},
   "outputs": [],
   "source": [
    "n_malls_2km"
   ]
  },
  {
   "cell_type": "code",
   "execution_count": null,
   "id": "8efd8252-f76e-4d7d-9821-a9c8312f0dad",
   "metadata": {},
   "outputs": [],
   "source": [
    "for i in range(len(housing_df)):\n",
    "    if i in row_index.values:\n",
    "        housing_df.loc[i,'mall_within_2km']=n_malls_2km['mall_within_2km'][i]"
   ]
  },
  {
   "cell_type": "code",
   "execution_count": null,
   "id": "2a3a82ce-a686-4b96-9287-6f9e24f6550e",
   "metadata": {},
   "outputs": [],
   "source": [
    "housing_df.loc[:,['mall_nearest_distance','mall_within_500m','mall_within_1km','mall_within_2km']].isnull().sum()"
   ]
  },
  {
   "cell_type": "markdown",
   "id": "359fa33b-aca2-4d00-a554-027ddf810133",
   "metadata": {},
   "source": [
    "As there are no missing values for mall nearest distance, it is highly likely that the mall nearest distance in specific rows has exceeded 500m/1km/2km, hence resulting in mall null values. This can be easily validated by finding the minimum distance for specific rows containing nulls, as shown below."
   ]
  },
  {
   "cell_type": "code",
   "execution_count": null,
   "id": "5c8bd8a6-224a-49c4-abc2-126cb7b62c9e",
   "metadata": {},
   "outputs": [],
   "source": [
    "#check if there is any discrepancy in minimum mall distance larger than 500m/1km/2km for rows with missing mall count\n",
    "print(f\"Minimium mall distance greater than 500m: \\\n",
    "{round(housing_df[housing_df['mall_within_500m'].isnull()]['mall_nearest_distance'].min(),3)}m\")\n",
    "\n",
    "print(f\"Minimium mall distance greater than 1km: \\\n",
    "{round(housing_df[housing_df['mall_within_1km'].isnull()]['mall_nearest_distance'].min(),3)}m\")\n",
    "\n",
    "print(f\"Minimium mall distance greater than 2km: \\\n",
    "{round(housing_df[housing_df['mall_within_2km'].isnull()]['mall_nearest_distance'].min(),3)}m\")"
   ]
  },
  {
   "cell_type": "markdown",
   "id": "40d34173-bbeb-4373-8ac4-3e57ebef2d4a",
   "metadata": {},
   "source": [
    "For the rows with missing mall value, we see that the available minimum distance greater than 500m, 1km and 2km is 500.056m, 1000.023m and 2000.176m respectively. This implies that the nulls in each of these 3 columns can be set to 0, since the minimum distance present is larger than the specified distance."
   ]
  },
  {
   "cell_type": "code",
   "execution_count": null,
   "id": "434052fb-72f8-445d-a8cd-202e35e824f0",
   "metadata": {},
   "outputs": [],
   "source": [
    "housing_df.loc[housing_df['mall_within_500m'].isnull(),'mall_within_500m']=0\n",
    "housing_df.loc[housing_df['mall_within_1km'].isnull(),'mall_within_1km']=0\n",
    "housing_df.loc[housing_df['mall_within_2km'].isnull(),'mall_within_2km']=0"
   ]
  },
  {
   "cell_type": "markdown",
   "id": "298c9101-a240-45d6-ae40-22c7cb0c4813",
   "metadata": {},
   "source": [
    "Lastly, we convert the values in specific columns to appropriate data types. This is done at the very end as there were nulls in some of the columns and datatype conversion was not possible."
   ]
  },
  {
   "cell_type": "code",
   "execution_count": null,
   "id": "6d2fe126-5027-4041-8235-8d4e30abeea1",
   "metadata": {},
   "outputs": [],
   "source": [
    "#change specific columns in dataset to appropriate data types\n",
    "housing_df['id']=housing_df['id'].map(lambda x: str(x))\n",
    "housing_df['mall_within_500m']=housing_df['mall_within_500m'].map(lambda x: int(x))\n",
    "housing_df['mall_within_1km']=housing_df['mall_within_1km'].map(lambda x: int(x))\n",
    "housing_df['mall_within_2km']=housing_df['mall_within_2km'].map(lambda x: int(x))\n",
    "housing_df['hawker_within_500m']=housing_df['hawker_within_500m'].map(lambda x: int(x))\n",
    "housing_df['hawker_within_1km']=housing_df['hawker_within_1km'].map(lambda x: int(x))\n",
    "housing_df['hawker_within_2km']=housing_df['hawker_within_2km'].map(lambda x: int(x))"
   ]
  },
  {
   "cell_type": "code",
   "execution_count": null,
   "id": "f87f7f7b-c5fa-4945-bb5b-1cd25e2d7a40",
   "metadata": {},
   "outputs": [],
   "source": [
    "# to verify if there are any missing values in each column\n",
    "housing_df.isnull().sum().sum()"
   ]
  },
  {
   "cell_type": "code",
   "execution_count": null,
   "id": "f3cce9dc-df7a-4feb-898a-f1f2a117fcc9",
   "metadata": {},
   "outputs": [],
   "source": [
    "# to check if there are any identical rows\n",
    "housing_df.duplicated().sum()"
   ]
  },
  {
   "cell_type": "markdown",
   "id": "ea2917bb-648a-4e7e-9539-a2c7ee56c7b0",
   "metadata": {},
   "source": [
    "We have verified that the housing dataset does not contain any nulls and no duplicated rows are seen as well."
   ]
  },
  {
   "cell_type": "code",
   "execution_count": null,
   "id": "7232405f-57ef-4f8e-84db-f83585cb843a",
   "metadata": {},
   "outputs": [],
   "source": [
    "#save and export data for further analysis\n",
    "housing_df.to_csv(\"../datasets/cleaned_housing_data.csv\",index=False)"
   ]
  }
 ],
 "metadata": {
  "kernelspec": {
   "display_name": "Python [conda env:dsi-sg]",
   "language": "python",
   "name": "conda-env-dsi-sg-py"
  },
  "language_info": {
   "codemirror_mode": {
    "name": "ipython",
    "version": 3
   },
   "file_extension": ".py",
   "mimetype": "text/x-python",
   "name": "python",
   "nbconvert_exporter": "python",
   "pygments_lexer": "ipython3",
   "version": "3.9.13"
  }
 },
 "nbformat": 4,
 "nbformat_minor": 5
}
